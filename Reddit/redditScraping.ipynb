{
 "cells": [
  {
   "cell_type": "markdown",
   "metadata": {},
   "source": [
    "# Reddit Scraping"
   ]
  },
  {
   "cell_type": "markdown",
   "metadata": {},
   "source": [
    "### API vs Scraping?"
   ]
  },
  {
   "cell_type": "markdown",
   "metadata": {},
   "source": [
    "`pip install praw`\n",
    "\n",
    "Helpful resources:\n",
    "\n",
    "The official documentation of praw:\n",
    "https://praw.readthedocs.io/en/stable/getting_started/quick_start.html\n",
    "\n",
    "https://www.geeksforgeeks.org/scraping-reddit-using-python/"
   ]
  },
  {
   "cell_type": "code",
   "execution_count": 1,
   "metadata": {},
   "outputs": [],
   "source": [
    "import praw\n",
    "import pandas as pd\n",
    "from praw.models import MoreComments\n",
    "import datetime"
   ]
  },
  {
   "cell_type": "markdown",
   "metadata": {},
   "source": [
    "### Before Starting\n",
    "(First time instructions)\n",
    "\n",
    "0. Familiarise yourself with what reddit is and how does it work, its structre, etc. what are posts, subreddits, communities, comments, etc.\n",
    "\n",
    "1. Reddit Account:\n",
    "\n",
    "You will need a reddit account to perform reddit scraping using praw. The account is required for the creation of a reddit app.\n",
    "\n",
    "2. Creating a Reddit app (your key to the Reddit API):\n",
    "\n",
    "Since we are using Reddit's public API, we need to create an app with reddit, which gives us credentials to access the API. So create an app by going to this website: https://www.reddit.com/prefs/apps . Follow the instructions given in the geeksforgeeks link I have attached."
   ]
  },
  {
   "cell_type": "markdown",
   "metadata": {},
   "source": [
    "### Initialising the account details\n",
    "Creating a Reddit Instances\n",
    "\n",
    "Basically giving the credentials to the API to authenticate you and allow your access."
   ]
  },
  {
   "cell_type": "markdown",
   "metadata": {},
   "source": [
    "### praw.ini file\n",
    "Since we are supplying our credentials to the Reddit API, pasting it directly into our code might be risky, becuase you may expose your credentials when you share your code. So we create a separate file called `praw.ini` in the same directory as this code file and put the credentials there. Whereever we share the code, we should however not share the praw.ini file. Who ever is running their code, they should create their own praw.ini file.\n",
    "(I'm attaching my praw.ini file also just so you can see how it is supposed to be.)"
   ]
  },
  {
   "cell_type": "code",
   "execution_count": 2,
   "metadata": {},
   "outputs": [],
   "source": [
    "myReddit = praw.Reddit(\"bot1\")"
   ]
  },
  {
   "cell_type": "markdown",
   "metadata": {},
   "source": [
    "Just in case the above line does not work for creating a reddit instance, you can directly put your credentials and run it as shown below:\n",
    "\n",
    "(uncomment it and put your credentials and run)"
   ]
  },
  {
   "cell_type": "code",
   "execution_count": null,
   "metadata": {},
   "outputs": [],
   "source": [
    "# myReddit = praw.Reddit(client_id=\"iry4l****\",         # your client id\n",
    "#                                 client_secret=\"hKHe****\",      # your client secret\n",
    "#                                 user_agent=\"HSL_Crawl\",        # your user agent\n",
    "#                        )"
   ]
  },
  {
   "cell_type": "markdown",
   "metadata": {},
   "source": [
    "### Submissions\n",
    "Types:\n",
    "- controversial\n",
    "- gilded\n",
    "- hot\n",
    "- new\n",
    "- rising\n",
    "- top\n",
    "\n",
    "You can make these requests or 'submissions' depending on your requirment.\n",
    "\n",
    "What do these different types mean? Refer to this reddit post: https://www.reddit.com/r/help/comments/32eu8w/what_is_the_difference_between_newrising_hot_top/?utm_source=share&utm_medium=web2x&context=3"
   ]
  },
  {
   "cell_type": "markdown",
   "metadata": {},
   "source": [
    "#### Searching posts from a specific subreddit"
   ]
  },
  {
   "cell_type": "code",
   "execution_count": 3,
   "metadata": {},
   "outputs": [
    {
     "name": "stdout",
     "output_type": "stream",
     "text": [
      "Thoughts on this comment?\n",
      "\n",
      "We are doomed today!\n",
      "\n",
      "CSK and RCB fan base are quite similar and they respect a lot each other\n",
      "\n",
      "This may sound petty. But I'm actually asking. Would ruturaj have done a better job in batting when compared to gill in the wtc?\n",
      "\n",
      "What if?\n",
      "\n"
     ]
    }
   ],
   "source": [
    "mySubredditName = \"csk\"\n",
    "\n",
    "# Your interface to access the subreddit\n",
    "subrr = myReddit.subreddit(mySubredditName)\n",
    "\n",
    "# Get the top 5 controversial posts in the subreddit\n",
    "for post in subrr.controversial(limit=5):\n",
    "\tprint(post.title)\n",
    "\tprint()"
   ]
  },
  {
   "cell_type": "markdown",
   "metadata": {},
   "source": [
    "### Possible Errors:\n",
    "- 401: Wrong credentials. Verify if you have given the right credentials in the praw.ini (in case you have multiple bots created, check if you have given the credentials of teh same bot.)\n",
    "- 404: Subreddit doesn't exist\n",
    "- 403: This error apparently occurs when your Reddit App's user-agent is not being allowed. \"To solve it change your user agent to be more descriptive.\" \"Try changing it to something either longer or without keywords like \"scraping\" or \"bot\".\""
   ]
  },
  {
   "cell_type": "markdown",
   "metadata": {},
   "source": [
    "### Storing in a dictionary to store in a Dataframe\n",
    "\n",
    "One thing to remember is that praw uses something called Lazy Access. So because of this, when accessing the reddit posts, they are not immediately stored in your variable (the API request is not made), until you access it.\n",
    "\n",
    "So while working with reddit data, it is best to access the instance immediately and store it in some database. You can then access the database whenever to work with the data."
   ]
  },
  {
   "cell_type": "code",
   "execution_count": 4,
   "metadata": {},
   "outputs": [],
   "source": [
    "# This is called a dictionary in python. You can think of it like a structure in C.\n",
    "# Dictionaries are a collection of key-value pairs. Here, 'title', 'id', 'author' etc. are the keys\n",
    "# Keys are sort of like the member variables of a structure in C.\n",
    "# In this particular case, what we have done is, created an empty dictionary with keys as 'title', 'id', etc. The value of each key is an empty list.\n",
    "# We intend to look at all the posts, and fill up these lists.\n",
    "posts_dict = {\n",
    "\t\"Title\": [], \n",
    "\t\"Body\": [],\n",
    "\t\"ID\": [], \n",
    "\t\"Score\": [],\n",
    "\t\"Comments Count\": [],\n",
    "\t\"URL\": [],\t\t\t\t# Any URL present in the post (like image, video, etc.). It not present, then url of the post\n",
    "\t\"Author\": [], \n",
    "\t\"createdUTC\": [],\n",
    "\t\"Post Name\": [], \n",
    "\t\"Permalink\": [],\t\t\t#The relative URL of the post.\n",
    "\t# \"Comments\": []\n",
    "\t}\n",
    "\n",
    "# Above, in the dictionary, I have created 11 keys in the dictionary. This is just to show you what all data we can possibly get from each reddit post.\n",
    "# Depending on what data you really need, you can create only those keys.\n",
    "\n",
    "# Getting the top 5 controversial posts from the subreddit 'csk'. This is stored in this variable 'posts'. It is a list of sorts.\n",
    "posts = myReddit.subreddit(\"csk\").controversial(limit=5)\n",
    "\n",
    "# Now we iterate through this variable 'posts' and access each post one by one and get and store their information.\n",
    "# the datatype of post is 'praw.models.reddit.submission.Submission'. It is some class defined in the praw module.\n",
    "# So this gives us access to various items like the title, body, etc.\n",
    "# To access the, you need to call it as post.title, post.selftext, etc.\n",
    "for post in posts:\n",
    "\tposts_dict[\"Title\"].append(post.title)\n",
    "\tposts_dict[\"Body\"].append(post.selftext)\n",
    "\tposts_dict[\"ID\"].append(post.id)\n",
    "\tposts_dict[\"Score\"].append(post.score)\n",
    "\tposts_dict[\"Comments Count\"].append(post.num_comments)\n",
    "\tposts_dict[\"URL\"].append(post.url)\n",
    "\tposts_dict[\"Author\"].append(post.author)\n",
    "\n",
    "\t# Time of creation of each post\n",
    "\t# The time of creation is in UNIX time. So we convert it to a more readable format.\n",
    "\t# This might be useful when you want posts of a particular time period.\n",
    "\tposts_dict[\"createdUTC\"].append(datetime.datetime.fromtimestamp(post.created_utc))\n",
    "\tposts_dict[\"Post Name\"].append(post.name)\n",
    "\tposts_dict[\"Permalink\"].append(post.permalink)\n",
    "\t# posts_dict[\"Comments\"].append(post.comments.list())"
   ]
  },
  {
   "cell_type": "code",
   "execution_count": 6,
   "metadata": {},
   "outputs": [
    {
     "data": {
      "text/html": [
       "<div>\n",
       "<style scoped>\n",
       "    .dataframe tbody tr th:only-of-type {\n",
       "        vertical-align: middle;\n",
       "    }\n",
       "\n",
       "    .dataframe tbody tr th {\n",
       "        vertical-align: top;\n",
       "    }\n",
       "\n",
       "    .dataframe thead th {\n",
       "        text-align: right;\n",
       "    }\n",
       "</style>\n",
       "<table border=\"1\" class=\"dataframe\">\n",
       "  <thead>\n",
       "    <tr style=\"text-align: right;\">\n",
       "      <th></th>\n",
       "      <th>Title</th>\n",
       "      <th>Body</th>\n",
       "      <th>ID</th>\n",
       "      <th>Score</th>\n",
       "      <th>Comments Count</th>\n",
       "      <th>URL</th>\n",
       "      <th>Author</th>\n",
       "      <th>createdUTC</th>\n",
       "      <th>Post Name</th>\n",
       "      <th>Permalink</th>\n",
       "    </tr>\n",
       "  </thead>\n",
       "  <tbody>\n",
       "    <tr>\n",
       "      <th>0</th>\n",
       "      <td>Thoughts on this comment?</td>\n",
       "      <td></td>\n",
       "      <td>ult53l</td>\n",
       "      <td>1</td>\n",
       "      <td>18</td>\n",
       "      <td>https://i.redd.it/fldc7x7tsgy81.jpg</td>\n",
       "      <td>Navneeth19</td>\n",
       "      <td>2022-05-09 20:29:08</td>\n",
       "      <td>t3_ult53l</td>\n",
       "      <td>/r/csk/comments/ult53l/thoughts_on_this_comment/</td>\n",
       "    </tr>\n",
       "    <tr>\n",
       "      <th>1</th>\n",
       "      <td>We are doomed today!</td>\n",
       "      <td>Narine and Varun will eat our batting line-up ...</td>\n",
       "      <td>12vhlcr</td>\n",
       "      <td>2</td>\n",
       "      <td>45</td>\n",
       "      <td>https://www.reddit.com/r/csk/comments/12vhlcr/...</td>\n",
       "      <td>ffskd</td>\n",
       "      <td>2023-04-23 01:37:40</td>\n",
       "      <td>t3_12vhlcr</td>\n",
       "      <td>/r/csk/comments/12vhlcr/we_are_doomed_today/</td>\n",
       "    </tr>\n",
       "    <tr>\n",
       "      <th>2</th>\n",
       "      <td>CSK and RCB fan base are quite similar and the...</td>\n",
       "      <td>I noticed that CSK and RCB have similar kind o...</td>\n",
       "      <td>13kundo</td>\n",
       "      <td>0</td>\n",
       "      <td>17</td>\n",
       "      <td>https://www.reddit.com/r/csk/comments/13kundo/...</td>\n",
       "      <td>Goku4477</td>\n",
       "      <td>2023-05-18 15:45:00</td>\n",
       "      <td>t3_13kundo</td>\n",
       "      <td>/r/csk/comments/13kundo/csk_and_rcb_fan_base_a...</td>\n",
       "    </tr>\n",
       "    <tr>\n",
       "      <th>3</th>\n",
       "      <td>This may sound petty. But I'm actually asking....</td>\n",
       "      <td></td>\n",
       "      <td>146m58s</td>\n",
       "      <td>27</td>\n",
       "      <td>43</td>\n",
       "      <td>https://www.reddit.com/r/csk/comments/146m58s/...</td>\n",
       "      <td>boringsimp</td>\n",
       "      <td>2023-06-11 11:37:57</td>\n",
       "      <td>t3_146m58s</td>\n",
       "      <td>/r/csk/comments/146m58s/this_may_sound_petty_b...</td>\n",
       "    </tr>\n",
       "    <tr>\n",
       "      <th>4</th>\n",
       "      <td>What if?</td>\n",
       "      <td>What if we have won the bid for Dinesh Karthik...</td>\n",
       "      <td>veog8g</td>\n",
       "      <td>0</td>\n",
       "      <td>6</td>\n",
       "      <td>https://www.reddit.com/r/csk/comments/veog8g/w...</td>\n",
       "      <td>dineshalagu</td>\n",
       "      <td>2022-06-18 01:18:55</td>\n",
       "      <td>t3_veog8g</td>\n",
       "      <td>/r/csk/comments/veog8g/what_if/</td>\n",
       "    </tr>\n",
       "  </tbody>\n",
       "</table>\n",
       "</div>"
      ],
      "text/plain": [
       "                                               Title  \\\n",
       "0                          Thoughts on this comment?   \n",
       "1                               We are doomed today!   \n",
       "2  CSK and RCB fan base are quite similar and the...   \n",
       "3  This may sound petty. But I'm actually asking....   \n",
       "4                                           What if?   \n",
       "\n",
       "                                                Body       ID  Score  \\\n",
       "0                                                      ult53l      1   \n",
       "1  Narine and Varun will eat our batting line-up ...  12vhlcr      2   \n",
       "2  I noticed that CSK and RCB have similar kind o...  13kundo      0   \n",
       "3                                                     146m58s     27   \n",
       "4  What if we have won the bid for Dinesh Karthik...   veog8g      0   \n",
       "\n",
       "   Comments Count                                                URL  \\\n",
       "0              18                https://i.redd.it/fldc7x7tsgy81.jpg   \n",
       "1              45  https://www.reddit.com/r/csk/comments/12vhlcr/...   \n",
       "2              17  https://www.reddit.com/r/csk/comments/13kundo/...   \n",
       "3              43  https://www.reddit.com/r/csk/comments/146m58s/...   \n",
       "4               6  https://www.reddit.com/r/csk/comments/veog8g/w...   \n",
       "\n",
       "        Author          createdUTC   Post Name  \\\n",
       "0   Navneeth19 2022-05-09 20:29:08   t3_ult53l   \n",
       "1        ffskd 2023-04-23 01:37:40  t3_12vhlcr   \n",
       "2     Goku4477 2023-05-18 15:45:00  t3_13kundo   \n",
       "3   boringsimp 2023-06-11 11:37:57  t3_146m58s   \n",
       "4  dineshalagu 2022-06-18 01:18:55   t3_veog8g   \n",
       "\n",
       "                                           Permalink  \n",
       "0   /r/csk/comments/ult53l/thoughts_on_this_comment/  \n",
       "1       /r/csk/comments/12vhlcr/we_are_doomed_today/  \n",
       "2  /r/csk/comments/13kundo/csk_and_rcb_fan_base_a...  \n",
       "3  /r/csk/comments/146m58s/this_may_sound_petty_b...  \n",
       "4                    /r/csk/comments/veog8g/what_if/  "
      ]
     },
     "execution_count": 6,
     "metadata": {},
     "output_type": "execute_result"
    }
   ],
   "source": [
    "# Saving the data in a pandas dataframe\n",
    "filename = \"redditPostsDump.csv\"\n",
    "myRedditDataframe = pd.DataFrame(posts_dict)\n",
    "myRedditDataframe.to_csv(filename, index=False)\n",
    "myRedditDataframe"
   ]
  },
  {
   "cell_type": "markdown",
   "metadata": {},
   "source": [
    "### Search through all subreddits based on a query"
   ]
  },
  {
   "cell_type": "code",
   "execution_count": 7,
   "metadata": {},
   "outputs": [],
   "source": [
    "query = \"cricket world cup\"\n",
    "posts = myReddit.subreddit(\"all\").search(query, limit=10)"
   ]
  },
  {
   "cell_type": "code",
   "execution_count": 8,
   "metadata": {},
   "outputs": [
    {
     "name": "stdout",
     "output_type": "stream",
     "text": [
      "Post Title:  Who's stopping India in Cricket World Cup 2023?\n",
      "Post Subreddit Name:  cricketworldcup\n",
      "\n",
      "Post Title:  Speed in India for Cricket World Cup\n",
      "Post Subreddit Name:  cricketworldcup\n",
      "\n",
      "Post Title:  India remain unbeaten in Cricket World Cup 2023\n",
      "Post Subreddit Name:  IndiaCricket\n",
      "\n",
      "Post Title:  Cricket World Cup points table. Which team’s ranking is the most surprising for you?\n",
      "Post Subreddit Name:  cricketworldcup\n",
      "\n",
      "Post Title:  Netherlands plead with ICC for more fixtures after second Cricket World Cup boilover\n",
      "Post Subreddit Name:  Cricket\n",
      "\n",
      "Post Title:  Who's stopping India in Cricket World Cup 2023?\n",
      "Post Subreddit Name:  IndiaCricket\n",
      "\n",
      "Post Title:  For the first time ever, All 6 Continents won't be represented in the Cricket World Cup\n",
      "Post Subreddit Name:  Cricket\n",
      "\n",
      "Post Title:  Cricket World Cup streaming services\n",
      "Post Subreddit Name:  srilanka\n",
      "\n",
      "Post Title:  Cricket World Cup: All dynasties must end – but what now for England?\n",
      "Post Subreddit Name:  Cricket\n",
      "\n",
      "Post Title:  Ben Stokes this World Cup has made me further have more respect for Soth Africa's cricket board\n",
      "Post Subreddit Name:  Cricket\n",
      "\n"
     ]
    }
   ],
   "source": [
    "for post in posts:\n",
    "    print(\"Post Title: \",post.title)\n",
    "    print(\"Post Subreddit Name: \",post.subreddit)\n",
    "    print()\n",
    "\n",
    "# Notice how you have posts from different subreddits."
   ]
  },
  {
   "cell_type": "markdown",
   "metadata": {},
   "source": [
    "#### Getting the comments of a post\n",
    "The comments of a post is also stored in the post class. However, it is not in a accessible form. Hence, we have this extra function to get the posts."
   ]
  },
  {
   "cell_type": "code",
   "execution_count": 9,
   "metadata": {},
   "outputs": [],
   "source": [
    "def getComments(post):\n",
    "    comments = []\n",
    "\n",
    "    for comment in post.comments:\n",
    "        if type(comment) == MoreComments:\n",
    "            continue\n",
    " \n",
    "        comments.append(comment.body)\n",
    "    return comments"
   ]
  },
  {
   "cell_type": "markdown",
   "metadata": {},
   "source": [
    "Lets try calling this function for a query"
   ]
  },
  {
   "cell_type": "code",
   "execution_count": 10,
   "metadata": {},
   "outputs": [
    {
     "name": "stdout",
     "output_type": "stream",
     "text": [
      "Post Title:  Who's stopping India in Cricket World Cup 2023?\n",
      "Post Subreddit Name:  cricketworldcup\n",
      "Comments: \n",
      "['Aussies in knockouts are a different breed \\U0001f972.', \"Today's top order collapse was a blessing in disguise for india IMHO, law of average was doing it's thing but somehow india manages to win \\n\\nNow, another winning streak is about to start... India will be in the final for sure, but winning the final will be tough, they need to prepare for knockouts now\", 'Netherlands', 'A semi final match', 'A thiccc short black guy from South Africa is waiting in Kolkata to give Kohli his b’day gift 💪🏿💪🏿', 'Shreyas iyer 💀', 'Proteas in the group stage.... NZ, as usual in the semis..', 'A Semi-final', 'Any opponent in the Semi-finals. ![gif](emote|free_emotes_pack|trollface)', 'Chad Netherlands waiting to upset India!!', 'South Africa, but in semis', 'Netherlands 💀', 'Probably aus...in semis', 'Dutchmen are coming', 'Shreyas Iyer and Gill has to step up. Really bad performances from them. If they start firing we’ll be one hell of a team.', 'India', 'Dutch or sa', 'Their opponent in the semi-final.', 'South African batting line up 💀💀', 'SA', 'India', 'South Africa or a revamped Australia', 'NO ONE .', '![img](avatar_exp|147939142|clown)\\n\\nFeel arahi Finals mai bhar hone wale', 'Holland or RSA or in Semi’s', 'I just hope we can keep this up even in the knockout stages. Nazar na lag jaye plssss \\nNeed this trophy from our team to wrap a bad 2023 for me', 'Indians smashing everyone!!!', 'I think we will not lose any match this wc', 'Guy named Iyer..mf put extra pressure every chance he get in team ..', 'South Africa. \\n.\\n\\n.\\n\\n.\\n\\n.\\n\\n.\\n\\n.\\n\\nOfc I’m kidding we’re invincible!!', 'They should lose one match before semi or they will get knocked out . Its important to lose first for greater victories', 'Thu thu thu🤫', 'STOP JINXING IT YOU MORONS!', \"Only South Africa can otherwise I see India going all the way. This cup iseother India's or South Africa's.\", 'India needs to loose atleast one. Otherwise repeat of 2019 will happen again in semis', \"Like chaka khan once said..\\n\\n#ain't nobody\", 'Sri Lanka', 'kanos', 'Knockouts', \"It's going to be the nerves that will bring down the team. The expectations will become insane in the semis.\", 'Temba and gang', 'New Australia', 'Semi finals', 'India', 'Aus or NZ or SA in semis', 'Proteus.', 'Jadeja.', 'Sri Lanka in the semi finals ? Just a guess.', 'A semi final against Nz', 'Ofcourse in semifinals 🤣🤣😅😅😭😭', 'Netherlands is the only team I wanna win against India', 'I don\\'t want India to lose. But if there had to be a situation where they lose, I would rather have them lose to Netherlands. They\\'ve worked hard to reach this point with the very limited resources they have. And a win against the best team in the world would give them good confidence for the future. That\\'s something I would like to see. Idk what but something about them just screams \"likeable.\"', 'Semi- Finals', '6/11, undefeated run', 'Whoever in Semi final or final', \"![gif](giphy|CAYVZA5NRb529kKQUc|downsized)\\n\\nNothin' 🗿\", 'SA batting first and posting a 300+ total for India to chase will be worth the chase!', \"I'm scared of South Africa they looks like unpredictable...and they can be huge thread for India🙁\", 'A semi final match', 'A bad day at work', 'Ea saala cup namde', 'Amazing', 'The more matches india comfortably wins, the more my fear for Knockout game increases', 'Rohit Sharma and Mohammad shami 🔥🔥', 'India', '45 minutes', 'Really excited for the SA match !!!', 'Semi final or south africa', 'Maybe South Africa,  maybe not , idk', 'just let south africa bat first', 'mongolia', '![gif](giphy|xUOwG9bltDA8e2oysg)', 'Ceremonial semifinal choke 😭', 'Hopes and dreams', 'India themselves, choking in knockouts', 'India itself\\nOne fucking bad day \\nAnd we are fucked', \"I wouldn't want us to lose to any team but if we have to lose to someone I'd want us to lose to Netherlands....idk I really like those guys I mean I can see how hard they work despite not being taken seriously and yeah I like them \\nJust hope we dont lose in the semis or finals 😭\", 'Only SA can stop them now', 'Will got to know in semis', 'Prolly India themselves with a score of 2-3 in knockouts', 'South Africa, from one World Cup to another', 'A knockout match', 'I just hope India doesn’t face New Zealand in the semis. I mean, India has been exceptional this World Cup so far. They played pretty well against NZ in their last match with them. But given the history between these two, especially during semis, I hope they will not face each other in the semifinal.', 'Bhupendra jogi', 'Themselves', 'The semis. Fucking bogey match for nearly a decade', 'it takes one day', \"Indians would be happy to win world cup after losing from Netherlands in group stage....yeah everyone will suffer minor panic attack including me but that's okay\", 'Semifinals ☺', 'Semis 😂', 'Curse of semifinals💀', 'Themselves', 'South Africa batting first and making 350+ could wreck India. India’s bowlers have been carrying the team to be really honest. And what an awesome job they’ve done. \\n\\nThe batters have done well, but not more than 2 of them have fired at once. India also has only had to chase 200-270 scores.\\n\\nIf one day the bowlers don’t fire and India have to chase 350 I’m not confident they can do it.', 'ICC Knockout Match', \"Ofcourse semi's /s\", \"Complacency, although I do hope today's game was their wake up call, like Argentina Vs KSA was for the former\", \"If the Saffers don't then no one in the group stage. I feel Australia or NZ both could if they meet in the SF/Final though I'd still lean towards India in both possible games (meeting one if those two at least again is more or less a guarantee now)\", 'Semifinal, as always. :D', \"Probably no one but it's kind of indian team hobby now to dominate in group stages like a monster and get choked in knockouts. Btw nz/ind FINAL all the way.\", 'Semi final will stop them… so lower ur orgasmic expectations', 'India', 'India', 'Only SA has a chance', 'Kiwis in the knockouts', 'Semi final oppoment..will loose in semis', 'SA', \"Will get knocked out in semi's while chasing.\", 'Dave', 'India will lose in the semis, nothing is more certain.', 'Semis or finals with Aus is always scary. \\nIndia is doing very well, but yet, Gill is not completely settled yet, don’t understand the role of Shreyas in the team, Siraj is not doing well, Kohli is worried about his centuries rather than the team, and top order easily giving away wickets when rotating strike was literally what India needed.', 'Indian team: Nothing scares me that much.. but that thing (ICC Knockouts), it frightens me.', \"Don't\", 'So.... is the match fixing under control now? Or is cricket still so corrupt? Honest question - I lost all interest when I found out about teams/players being paid to throw matches', 'The knockout stages', 'Injuries', 'Netherlands', 'All the hard games are in bowling pitches , while the easy ones in batting pitches …. Hmmmmm 🤨🤔🤔', 'SA still left.....also Indian team are kind of chokers.', \"We'll lose in the final/semi finals\", 'bas knockouts me randap na ho jaye !', 'I don’t want India to enter into semis without losing a game.', 'No one, India are going undefeated in this series. World cup is already theirs ,they are just completing the formalities.', 'Semifinals', 'Semifinals', 'Nobody..we would win our 3rd World Cup trophy unbeaten this time and create the new record', 'any team but in knockouts', 'Vs IND …', \"India is just fantastic throughout this tournament. They are simply the best in all three departments and other teams are not in such knick. That's why India is looking on top and will surely clinch the world cup\", 'Knockouts', 'India', 'Overdependency on kohli and rohit?!', 'Hopefully not SA', 'Australia', 'Wait & see', 'Knockouts', 'Knockout will be different and difficult as it is always be for india. The pressure of \"Only one lose and out of tournament \"is headache for india', 'Semifinal', 'SA', 'Maybe South Africa', 'No teams are stopping India...... but overconfidence????', 'It could be India itself!', \"Just wait, they haven't played against the Netherlands yet.\", 'Netherlands will stop them ☠️☠️', 'Why does this remind me of rcb vs srh in 2016.🗿💀', 'Semi-finals', 'Their luck in knockouts', 'Australia may win against India if they meet in semifinal.', 'Australia may win against India if they meet in semifinal.', \"Don't jinx it.\", 'Semi finals', 'SA and the knockout match', 'Semi finals', 'Indian team itself 😂😂', 'South Africa looks strong too', 'Remembering 2015 WC 6/6 Won. Lost again Aus in Semi. Hoping it will not happen this year.', 'India', \"Knockouts. All this does not matter if you don't perform on the day\", 'TBH Nobody can', 'Semi final or final', 'Indiaaaa indiaa👏👏👏', 'India will win the WC unbeaten IMO.', 'Prob Aussies in semi or final', 'Semi finals', 'This is a deadly team, i cant remember a stronger team which wins for breakfast lunch and dinner. India finally learning to win and not just fight', '![gif](giphy|qmXZnF2Ev5LkqGMglN|downsized)\\n\\nYe rokega hume', 'Netherlands maybe 😄', 'But cup nhi mil payga hume. Kyu andar ki aatma bol rhi hai', 'Knockouts', 'Semi finalist 😂', 'Netherlands. /s', \"I don't watch cricket but this is phenomenal\", 'South Africa', 'maybe NZ in knockouts again', 'If shreyas still in team, if siraj doesnt bowl to his potential, out form gill continues to play irresponsible,  only India can stop India.', 'Wait for Netherlands', 'Winning table matches is important but everything comes to finals only', \"Isn't it simple I mean everyone must have guessed ahh nvm -THE MIGHTY NETHERLANDS\", 'Rohit Sharma is leading the way with their batting but it’s their bowling attack that has them deserving favourites. Although they beat Australia, I don’t think they would like to meet them in the finals. Australia’s record in winning World Cups is without parallel.', \"Semi's\\n although I don't want it to be.\", 'New Zealand or Australia.', '45 minutes of Bad cricket says Hi', '![gif](giphy|4MNeiwAAzPH4dkHz7y)', 'Why shreyas in team ???', \"Australians looked charged up after the NZ match. Hope their openers don't devastate our bowlers in semis.\", 'SA', 'South Africa', 'As a South African my fingers are crossed but we have that annoying choking habit', 'South Africa has a chance on 05-Nov', 'You. You just jinxed it', 'Wishing all the best for 11-0 Real Champion India.', 'Aussies in knockouts or New Zealand in knockouts', 'Semis', 'Knockouts', 'Temba bavuma🤣😁', \"India also won 6 out of 6 matches in 2015 wc and topped the group stage in 2019 with 7 wins out of 9 and 1 washed out match only losing to eng. \\n\\nIndian bowlers were bowling every team out in 2015 and Rohit was smashing century in what seemed like every match in 2019. \\n\\nPoint is you won't fool me this time team india I am mentally ready for the inevitable 400 that we are going to concede in the semis or the Indian batting team collectively forgetting how to bat.\", 'South Africa for sure', 'That one choke', 'I do not mean to be the naysayer, but I believe Australia will be it.\\n\\nNZ, SA, AUS - any one of these will be a scary opponent in the knockouts\\n\\nBut considering the performance we have seen till now, I am pretty optimistic.\\n\\nBowling is firing on all fronts, middle order batting is reliable, and fielding/strategizing has been pretty effective.\\nfingers crossed!', 'Knockout stage', 'Playoffs will put a stop. As usual. I am already bracing myself for the impact.', 'Netherlands', \"India does good in group stages, it's the knock out stage that gets difficult for them\", 'South Africa ![gif](emote|free_emotes_pack|grin)', 'The semis ofcourse', 'SA is left. Also AUS is in the top 4 and we know how they play in knockout matches.']\n",
      "----------------------------\n",
      "Post Title:  Speed in India for Cricket World Cup\n",
      "Post Subreddit Name:  cricketworldcup\n",
      "Comments: \n",
      "['Idhar bhi dhoti khul jayegi uski', 'Bro cant even hit 2 tip ball 😂', 'He said, \"I\\'m playing like Babar Azam right now.\"![gif](emote|free_emotes_pack|grin)', 'Why people giving him money in livestream, indian are going mad\\nEdit: it ur hard earn money, why waste it on someone who doest even know u exist.', '🤡', 'Who?', 'milking the fuck out of indians lmao', 'Ishowmeat in the most vegetarian country', 'Speed thrills but kills', 'Total bakchodi', 'Ishowbabar', 'Another joker in the mix.', 'Kids barking. . . :(', \"I know he's famous but what is he famous for?\", 'Is this joker in my country now?', 'Who the fuck is this clown?', 'Speed to kaafi slow nikal.', 'Videshi Chapri', '[removed]', 'Backc**d Pro Max', 'Why kids hype this degenerate so much', \"A shameless opportunist who's made a career out of being an opportunist and playing an idiot on YouTube and pretending to be a Ronaldo fan boy... and now he's going to end up acting like he's a Kohli fan boy as well\", 'who TF invited him here!!?this fuckface C\\\\*\\\\*k exposing Son of a B\\\\*\\\\*\\\\*H!', '2 Ind v Pak tickets available\\nDm if interested', 'Does this fame chasing brat even know anything about cricket? The last time I know he exposed his d*ck to the world to gain some clout', 'Bro showed us baseball cricket and football in a single frame', \"Wow speed is like a kid who gets excited when he wins but then gets angry and starts barking. don't ask me which kid barks when he is angry\", '![gif](emote|free_emotes_pack|poop)![gif](emote|free_emotes_pack|poop)', \"Who's this douchebag?\", 'WHO?', 'Is yede ke gote pe yorker maaro !', 'Bro is worst then child in playing', 'Better than BCCI chairman LMAO', 'Brilliant I show speed far better and richer than useless Indian youtubers', 'Scammer', 'is he going to show his other bat again', \"Bro thinks he's playing baseball and left the bat behind\", 'Dude sure knows to pander to his audience.', 'Who?', 'Who the hell is this douche and why is he such a douche that sucks at cricket?', 'Dude if he hits one of those he would kill a crowd member.', 'u/SaveVideo', 'He even missed the kick to the bat💀', \"just wait till he plays under thala's leadership\", 'And he gonna flash his D for all of us.', 'Waapas bhejo isse', 'VAIRAT KHOLI !!!', 'Clown or a showman ? ![gif](emote|free_emotes_pack|feels_good_man)', 'Is he from west indies domestic', 'bsdk dheere feek detaa ball', 'This guy is amazing. funny af', 'Bapu ji from tmkoc 😂🔪', 'Bcci Invited him Kya???', 'Lmao', 'Who is this Shit now..?', 'Who is this joker ?', \"Views ke liye kuch bhi chal raha h n day by day I'm introduced to one idiot after another n every third post is there on reddit too ...wtf\", 'Who TF is speed?', 'Guys,speed in ind vs pak match ,its gonna be hilarously chaotic🤣🤣🤣', 'People were fucking dying for a photo😭😭😭 acting like fucking animals like bruh', 'Kaun hai ye?', 'Can we just put cricket, ping pong, golf, poker and dance into their own category of \"semi-sport\"?', '\"so easy bro, so easy\"', 'From 20 vs 1 to batting against 11', 'Um who is this?', 'Weeraat koli', 'why is he?', 'Yar guru ivnu huccha thara adta idhane', 'Broccoli ass haircut', 'Idiot', 'u/SaveVideo', 'happy to seeing him', 'Americans 🤡', \"I don't understand people's fixation with this guy.\", 'Fucking idiot, I hate him after his ishowmeat incident on livestream', 'Faltu ki hype de rkhi h is chutiye ko. And he knows exactly how to milk Indians', 'New day, new clown', 'He said \"cricket is easy\" few years ago 💀', 'Looks like yet another social media personality needs likes & comments. Just like goras making vada pav.', 'Aaj se tum speed nhi, गति हो!', 'why people are crazy for this chutiya..?', 'why he looks so tall here?', 'hi', 'Why rat kolli', 'Whaairat kohali😊👍', 'I find him chutiya', 'Jealous incel jobless engineers in comment section getting offended', 'This is why gen alpha is weird af. Its obviously just his entertainer persona, but those kids mimicking… rip lol', 'So this guy is in Ahmedabad?', 'who is this creature? what does he have to do with cricket?', 'People need to stop promoting such clowns', 'Bro thought he was playing baseball', 'Fuck this guy', 'He insulted sriraj', 'He is holding a bat like a baseball and hitting balls calling it 100 runs lmaooo', 'Chutiye ka choda bc itni kya footage dere is chutiye dalle ko 😐😐', \"I can only hope he delivers an equally shitty world cup song like he did for the FIFA world cup where he clearly didn't know any of the names of countries.\", 'He seems insufferable', \"Lol didn't he once claim that this was the easiest sport in the world?\", 'Looks like Kachra from Lagaan...', 'He is so random lmao', \"Who tf watches him in India ?!?! We can't be that doomed!\", \"That's two unrelated videos today I've seen of this guy who is he besides a dickhead?\", 'Who the fuck is this guy?', 'pure 50 logon ka crowd aaya hai gadho ki salami dene ke liye', 'Nigga', 'Pfft, Americans and their unwillingness to accept new sports', \"Bro it's not baseball, what kind of swing is that!?\", 'Gatimaan Bhau kab aaye damn', \"I see a lot of people confused and angry at speed for getting this much attention. Maybe some of you are way too old or your taste is different. Even I used to find him problematic and annoying initially, but when you actually pay attention he is one of the nicest human beings. It's just that people who don't know him associate his entire persona to the viral clips that they would have seen of him. He is more than that and is a very chill guy. He is an entertainer. He knows how to retain and keep 50 THOUSAND viewers for 3-4 hours straight on LIVE. That's  why he is very Hyper.\", 'Doguna lagaan Dena padega', 'GOAT🐐🐐', 'Sasta version 😂', 'India vs pakistan && india vs bangladesh tickets availbale dm me fast', 'Lots of boomers in this tread.', '🤣🤣 lmao', 'We can be sure he loves Cristiano mostly for his celebrations 😂', 'Kya chutiya hai ye sala mentally challenged lg ra aur log to aur chutiye lg re wo double mentally challenged lg re', 'Bhaag ja yaha se panauti MC', 'He is more stupid than he looks. Who the fuck is this clown in my city', 'Who TF is this guy?', '🤡', 'Bro thinks he is playing baseball \\U0001faf5🏻💀', 'Cringe 🤡', \"I fail to understand why this idiot being in India is such a big deal. Wasn't he involved in some crypto scam few months back?\", 'Whyrat Christiano Kohli', 'Chutiyo ka sartaaj', 'Dhoti kahe pehena hai behinchod.', 'What an idiot. Please stop feeding him attention', 'Why does this clown have a platform?! JFC.', 'ye lodu cricket ko easy bolra tha', 'ishowdhoti', 'He just sucks at everything he plays is it?', 'Bhairat koholee', \"I'm playing like Babar Azam 🤣🤣🤣🙌🏼🙌🏼🙌🏼\", '\"That\\'s too easy bro, that\\'s too easy\"', 'Dude is mentally unstable AF.', 'Boom boom', 'I don’t know why the is on my home page, but isn’t he the guy who got popular for making all sorts of funny faces on YouTube or something? Hope no one’s is smoking around him. The thing he’s wearing looks highly flammable.', 'Who the hell is this guy?', 'Bro’s bottom is full free', 'hai kon ye kalua mdrchd', \"I won't trust him with the bat, mf can throw that back at us and laugh about it\", 'Ye Indian cricket nahi hai to koe chhapri hai 😂\\n\\n![gif](giphy|10JhviFuU2gWD6)', 'What the dwag doin ?', 'dies from cringe', 'All I see is a clown who would do anything to be relevant/famous (show his 🥩 too)', 'I thought he was gone a do ishowmeat 2.0', \"I think he's retarded\", 'Kaise kaise log hai prithvi pe.', \"Why are my fellow Indians so butt hurt over speed visiting India and playing Cricket? Cricket ain't shit when compared to Football, y'all should feel grateful that someone's helping you promote the only sport you all are good at, overseas🤣\", 'I thought he never se the cricket before', 'cricket bat ni baseball bat la patukunte itlane aitad', \"Oh come on he's a good for nothing retard.\\nOur gora validation needs to stop.\\nI\", 'Bro I was just in ahmedabad and left one day before this, If I knew he was coming to see the match, I would have stayed longer bruh☠️☠️☠️☠️', 'bro started twerking 💀', 'Bro is holding it like baseball bat', \"Who's he?;\", 'Kaun hai ye speed ?', 'this clown is what youngster today are looking up to? holyshmackaball we are rogered.', 'Luli khadi hoti nahi ma chodne AA jate hai', 'wow I like his spirit', 'Who is he???', 'how people tolerate this cringe?', 'speed raat kholi  on strike .![gif](emote|free_emotes_pack|surprise)', 'Monkey Playing Cricket is FUN...', \"I'm playing like baber azam💀\", \"Bro think's his Virat Kohli\", 'Bruh why he wearing dhoti in a Cricket match 💀', 'Make him to ware lungi', 'Time waste Karti Hui public', 'Kitna bakchod insaan hai', 'Who is this guy bc kabse iske videos a rahe hai !', 'Babar Azam😶\\u200d🌫️', 'Bakwaz guy', 'Ishowbakwaz', \"Who's this 🤡?\", 'Yeh Justin trudueau is bhi bada C lag raha hai', \"He can do whatever he wants, but goddamnit येडझव्या, don't disrespect the BAT.\", 'And gain a few million Indian followers', 'Luode ko bat kisne diya.. sach raha hoga cricket 🏏 game easy he..😃😄😄😁😂', \"I actually didn't know that it was possible to be this bad at cricket.\", 'Dont pull ur cock out again', 'That’s some dumb crowd to be standing that close', 'LUNGI DANCE LUNGI DANCE LUNGI DANCE LUNGI DANCE', 'Bro needs to go to mahabaleshwar mandir after this :p', 'Overrated youtuber and Gamer', 'Kon hai joker?  Why are people so interested in him?', 'Why the fuck are Indians so obsessed over foreigners', 'W', 'baba azam ko kyu toda xd', 'Ye BKL jis team ko support krta hai wo har jati hai, panauti sala', 'So, all chapris, both national and foreign have assembled to witness their biggest joker', 'Oh shii Kohli bout to b pissed af like R7 🤣💀', 'What is wrong woth this world?', 'Speed is to cricket is what Ronaldo is to football', 'Bro used to say that cricket is the easiest sport there is.\" base ball in ohio like stuff\" but not able to hit a single ball at a speed of 20 . As a cricket fan , it irritates but anyhow i manage to laugh at him', '“Eye shoe speed”', 'if you listen carefully, when he misses two shots completely, he gets agitated and says \"WHY AM I PLAYING LIKE BABAR AZAM\". MAN HE GOT SOME RIZZ.\\n\\nBHAI ITNA  CHUTIYA  NAHI HAI , MILK KARNA JAANTA HAI INDIAN AUDIENCE KO, BUT THOSE COMMENTS WERE HILARIOUS.', 'just some knee growing', 'Nah .he is in India for more reach.', 'Panoti hai ye ... sala ye jisko bhi support krta hai woh team harti hai 😫😫', 'I am playing like babar Azam 😂', 'Monkey', '&#x200B;\\n\\nhttps://preview.redd.it/my9wx9bme3ub1.jpeg?width=679&format=pjpg&auto=webp&s=fd515fa25f46c451e4358a050fac06db60d778cb', 'Be careful folks who are surrounding. Guy has no brain and the bat he swingin can flew from his finger tips and land on to someone standing closeby . He can’t even hit a slow ball . \\nSomething happens likewise he will scream and make a viral video . \\nSpeed is a dump fuck tbp.', \"He literally said gandhi is virat kohli's father 🙂\", 'Ye chutiya hai kya', 'When i saw this post my first reaction: like i give a shit.', 'Pakistan zindabad! 🤪', \"Speed is so garbage at life I really don't like him at all.\", 'This dude is so fucking annoying', 'India vs england 2 tickets. \\nDm if Interested.', '2 india vs england tickets.\\nIf Interested then dm.', 'India vs england 2 tickets.if interested then dm.', 'India vs england 2 tickets.if interested then dm.']\n",
      "----------------------------\n",
      "Post Title:  India remain unbeaten in Cricket World Cup 2023\n",
      "Post Subreddit Name:  IndiaCricket\n",
      "Comments: \n",
      "['Shami be like: ye cheating h mujhe stump udane the 😅😅😅😅', 'Orgasmic stuff right there. Beating the inventors of the game- at home- in front of such pure NOISE- by 100 runs!? Maje aa gaye bc', 'IF shami took 5 today. Was it a record for the  first consecutive fifers ever in WC ?', 'Bro took less than a min to clip and post', 'r/fapmaterial', 'tbh it was scary at the beginning', 'Wood got his wood rattled', 'r/notmyproudestfap', 'Law of averages is scaring me now.', 'That signature Yorker !!! 👏🙌❤️', 'And will remain unbeaten until we lift the trophy', \"The last time India went unbeaten throughout was in 2017 and then lost the final 🤕.. I'm scared\", 'Btw Iyer prachi has different plan ..mf put extra pressure on team every time he play .. replace him', 'Looks like will reach final unbeatable.. Then choke and mass cry in final stadium', 'Pandaya hits a six to not let the other batsman score a 50 : Everyone loses their mind.\\n\\nBumrah picks up number 10 to not let shami get his fiver : No one bats an eye.', \"Am I the only one who thinks that the firecrackers are too much in the end? \\nI love that India won. But I don't understand using firecrackers in India matches and not the other ones. There shouldn't be discrimination when you're hosting a tournament. \\n\\nWhat do you guys think?\", '141 from such a short run up. 💪']\n",
      "----------------------------\n",
      "Post Title:  Cricket World Cup points table. Which team’s ranking is the most surprising for you?\n",
      "Post Subreddit Name:  cricketworldcup\n",
      "Comments: \n",
      "['England for sure, obviously. Wouldn’t have been shocked having them outside the top 4, but in dead last is pretty startling.', '1. Eng\\n\\n2. Ned\\n\\n3. Afg \\n\\nEng won the last T20 and one day WC, no one thought they’d be doing this bad\\n\\nNed and AFG for obvious reasons.', 'SA - expected them to be around 4-6, didn’t imagine they would play so well!\\n\\nEngland - expected them to be around 3-5, with solid wins and a couple of losses. Didn’t imagine they would be so listless. \\n\\nRest are more or less as expected.', 'England for sure. For a team with an insanely high calibre to be dead last is astounding. Their squad is the strongest on paper. \\n\\n\\nI confidently told my friends that this Cup is England’s. Safe to say that my statement aged like milk. \\n\\nThis tournament has given us many surprises - NED and AFG winning two games, Pakistan losing so badly and South Africa playing so well!!', 'Englund', 'Before the WC I thought the points table will be somewhat like this:-\\n\\nInd\\nEng\\nAus\\nNz\\nSa\\nPak\\nBan\\nSl\\nAfg\\nNed', 'Def. England. They should have been near the top. But, look at them minnows.\\n\\nAnd then, Sri Lanka. After the drubbing they got in Asia Cup final and especially after the absence of Wanindu Hasaranga & the entire first choice pace attack, being at number 5 with a realistic chance of making Semis is pretty good.', 'West Indies', 'Since we are discussing Surprises, I’d have to say Netherlands and South Africa. They weren’t fancied for what they have achieved. \\n\\nThe most pleasantly surprising is Afghanistan for sure! \\n\\nPakistan, good team but fatigued massively. No rotation and absolutely no workload management. Their results are a causality of talent being mismanaged.\\n\\nSri Lanka too is a heartening situation for a team which is still finding their core and improving. (It’s great commendation to where they are at)', \"Ours. I'm surprised we are doing as well as we are. But I'm also surprised we aren't unbeaten at the same time\\n\\nProtea Paradox\", 'No points for guessing England\\nTell other than that', 'Other than England, I’m actually surprised that Pakistan isn’t in top 5', \"Not surprised but it's scary how good india is right now, we have the best bowling attack and i am talking about pace not spin.\", \"The so called DEFENDING CHAMPIONS 🤣 \\n\\nBoundary count is no more a rule now, they've to suffer 😔\", 'The correct answer here is England, from the arguable best last time to the undoubted worst this time. Nothing short of shocking', 'Of course England', 'Eng n Pak', 'England obviously', 'England, definitely.', 'I am surprised Afg is ahead of Eng and Ban 😲', '[deleted]', 'nothing surprises me anymore', 'Never seen England play this bad. It’s quite shocking', 'I want to say something else but Yah England Obviously ![gif](emote|free_emotes_pack|poop)', 'England', \"England for sure.. Didn't expect them in bottom\", 'No west indies', 'England', \"England, it's quite a transformation for England from world champions to worst performance, and it's disappointing to see that it's one of their poorest performances.\", 'Lumber 1 Bowling', 'Dafak.. obviously England, who else', 'England.. I guess it’s karma.. for stealing the World Cup from Kiwis in 2019', 'Any chance for pak?', 'England, I expected them to be a serious contender for this Wcup but their ruse has been exposed. Cricket is not all about bashing bowlers on lifeless pitches as the Poms believed and tried to convince others. Kiwis, the co-champions of the 2019 Wcup, on the other hand,are playing like the true defending champions.', 'Cheaters deserve to be at bottom', '\"Bazball this bazball that \",  just be smashed around by every team in the wc 😭😭', 'Least surprising would be india, playing on indian pitches and home crowd, you’d have to be pathetic to loose any match', 'India', \"ENG=most (the last world may be NZ was the genuine winner...karma? don't argu with rules please)\\n\\nthen Bangladesh\", 'India, england, afghanistan and netherlands', 'Bangladesh.', 'Unpopular opinion, NZ', \"Idk, I expected Afghanistan to show up, so their position is not surprising. Especially since, playing in India is basically the closest thing to a home ground advantage they have. \\n\\nEngland is the obvious choice for surprise. But I am actually somewhat surprised about Bangladesh. While I didn't expect them to be top four. I also didn't expect them to be so listless. I expected them to at least put up a fight, somewhat especially after seeing their fight in India's tour of bangladesh last year. But they just didn't show up at all. \\n\\nAt this point, the points table is quite set but, I am praying for some miracle to happen and Sri lanka to qualify and knock out australia out of top 4 somehow. (insane hopium ik).\", 'England is the most surprising', 'SA and ENG', \"There's obviously England but I'm somehow also surprised by Bangladesh. I didn't think they would be on contention but didn't think they would be this bad.\\n\\nThe Netherlands of course have over-performed and I'm also pleasantly surprised by Sri Lanka. I honestly thought they'd be doing what Bangladesh are doing.\", 'Australia and Pakistan. Australia how they started the tournament, I considered them to be \\n gone from the tournament. And Pakistan, well they were pitted to win the tournament. It’s been fun.', 'Australia and Pakistan. Australia how they started the tournament, I considered them to be \\n gone from the tournament. And Pakistan, well they were pitted to win the tournament. It’s been fun.', 'SA and ENG', 'South Africa - expected SA to be in between 4 to 6 and England - expected in the top 4', 'Nederlands', 'Afghanistan, Netherlands- pleasantly surprised', 'England and Netherland for sure.\\nWhen Netherland qualified i thought Zimbabwe deserved or west indies, Netherland got lucky or some\\n\\nBut they are such a good team, seeing them win makes any true cricket fan happy', 'England, we just forgot how to bat or something', 'Afghans are getting so much attention out of this World Cup, Rashid , Nabi and Naveen were the players that were known before but now Afghans as a team are getting much better.\\nIt reminds of time when Bangladesh was a new comer but slowly they moved up the ladder however Afghanistan is ahead of their time \\n\\nThen shockingly it is England, the birthplace of cricket and long history of English players  dominating the world arena.\\n\\nStokes and team does not look like they are playing with their full energy, the shots are sloppy , bowlers are tired and even their presence in the match does not look to be good', 'England is straight up shocker. Seen us been battered but not this hard 😢', 'so 3 chokers and Australia are qualifying', 'I’m surprised how England manage to win 1 game despite such bad form. Amazing !!', 'You know it , We know it , they know it , everyone knows it. ENGLAND.', 'You know It.Everyone knows it.', 'Netherlands with their impressive performance and England with their disappointing performance', 'SouthAfrica & England.', 'SA & ENG.', \"Isn't it obvious at this time.\\n\\nThe reigning odi and T20 world champions the team that reinvented how to play cricket with a generational talent, a very decent spin attack, having probably the most clutch player in history of the game being dead last. What to say.\", 'England are still world champions - from the other side.', 'England & Afghanistan. Still couldn’t figure it out what went wrong for the English. Afghan fight back was amazing and overwhelming', 'England at the bottom of the table. Surprising', 'Afghanistan. For a country ruled by the Taliban, they have knocked over some big names in this tournament.', 'I mean after India I support Afg', 'L bozos', 'South Africa', 'West Indies', 'At this point just give the trophy to India. And from the next world cup only 30 Indian states and Union Territories should participate. The quality of Cricket from other countries is trash and Cricket is doomed.', 'England… 🤣🤣🤣🤣still morning their queen', 'Afghanistan and England!', 'Afghanistan getting into semi finals', 'Afghanistan and England for sure', 'India', 'England', 'W India', 'England, as an Englishman I was never expecting us to win it but to perform as badly as we have I am absolutely appalled', 'India surprisingly they win till now and lose all essential matches as usual Dhoni was the best!!', \"Pakistan.. Why they aren't at the bottom ?\", \"Netherlands. I didn't even know we had a national cricket team, let alone a good one.\", 'england', 'Afghanistan', \"Well England's a shocker\", \"Afghanistan, after yesterday's win & then England & Australia.\", \"Afghanistan after yesterday's match\", 'I am more surprise  with Nederland  Ranking. They can actually  qualify for champion trophy 2025 if they end up on 7 or 8 ( 7 if Pakistan  is below  8. Pakistan  is host so they already  qualify and there Ranking  is irrelevant  for champion  trophy.)', 'The defending champions ofcourse!', 'The inventor of cricket 😂❤️', 'England for sure', 'My sympathies for the barmy army. 🤣🤣🤣', 'Beyond obvious surprises of England, Ned and Afganistan, I am also surprised by Pakistan and Sri Lanka. Thought they would do well on subcontinent pitches.', 'England', 'India', 'England', 'Biggest surprise was west indies not even qualifying for the wc', 'England at the bottom of the table is shocking but they deserve because of the brand of cricket they have played this WC. \\nAlso Afganistan, they have been really good this time. Usually we think they might be at the bottom but they have beaten good teams convincingly this time around.', \"ENG fr. The previous winners are at the last and ain't even going to the semis.\", 'India.', \"Pakistan as they shouldn't have been allowed to play\", 'England of course.', 'SA', \" Afghanistan in the last World Cup didn't win any matches, but this time they won 3 and the one they won was England.\", \"India, every win is fixed with huge amount of money since past 20 years or so still idiots keep watching and following the game like a sheep, Cricket is huge in India people leave everything behind to watch the already fixed results of the game not realising how they are made fool of by ICC, wealthy sponcers like amabanis and tricked into watching a fake gameplay of which results are manipulated. \\nYeah so India's ranking is a bit surprising for me\", 'Afghanistan for sure', \"I want India to lose a match in league......so that they don't lose in knock outs\", 'India topping the table. Unpopular opinion. We were in a mess before wc started. Bumrah coming back and bowling well has changed the entire scenario.', 'England😅', 'South Africa', 'If not India, I am ok with New Zealand winning the World Cup this time', \"1. england won 2019 wc and 2022wc, can't believe they're at 10 below Bangladesh\\n\\n2. afg: who would've thought they'd beat Pak SL EnG\\n\\n3. NZ: they just over perform in every IcC tournament.\", 'Definitely SA and England! ![gif](emote|free_emotes_pack|thinking_face_hmm)', 'England most definitely, they are the defending champions and their form seems quite off this season.', '1) England - expected them to do way better \\n2) Pakistan - expected them to do way better \\n3) India - didn’t expect us to have won all matches we played at this point', 'India😂😂', 'INDIA', \"For me it's definitely England, as long as I've been watching cricket I didn't see England out of the top 4\", 'South Africa, really unexpected with no abd, morkal and other legend', 'you know the answer, cmon', 'lmao rigged', 'I think Sri Lanka as I thought they would get folded by others judging the Asian cup performance \\n\\nand Afghanistan was such great surprise on how good they have become in playing good long form cricket \\n\\nand as for England, I think they over-estimated their strength.', \"Isn't it obvious!?\\nWhere are the champions..🌚\", \"South Africa, I mean it's really amazing they poll up this level of profomence\", 'Why have the African countries stopped playing in the world cup', 'Ofcourse England', 'Ofc the defending champs', 'I think ENGLAND at last is the kost surprising for me..', 'Land', 'England', 'Ooh after last time, a points table without Flags']\n",
      "----------------------------\n",
      "Post Title:  Netherlands plead with ICC for more fixtures after second Cricket World Cup boilover\n",
      "Post Subreddit Name:  Cricket\n",
      "Comments: \n",
      "[\"\\n\\nICC needs to understand that a sport going Global and associates doing well will only lead to further growth of the sport, not sure why they are curbing this sport's growth by restricting the participation of associates and not allowing them to have more bilaterals and series'\\n\\nIf not the top teams like India, Newzealand and Australia ( Ik they would be worried about facing an upset), Netherlands should at least get regular fixtures with other teams which are more or less at par with them (for eg: Afghanistan, Bangladesh, England etc).\", 'Organise a Europe Cup atleast ffs!', 'It’s such a shame that they need to plead.\\n\\nAny other sport would be actively assisting a team on the edge of the top tier to become stronger so as to strengthen their own product.', 'Lmao they think ICC wants to grow cricket', 'All European teams should organise a euro cup like the gulf T20 cup which Oman won', 'Id love to see them tour Australia tbh', 'All countries taking part in WTC should play a series with at least one associate every year.', \"Bangladesh who themselves were pleading for more fixtures against top teams have played ONLY 3 ODIs in history against Netherlands. And now trail 1-2 head to head vs the Dutch. It's inexcusable that Bangladesh don't play them\", 'Pakistan want countries to tour them. They could offer Netherlands a tour.', \"Who's touring England? I'm sure you can call in on the way.\", 'I want ICC to bring back triangular or quadrangular series   with Netherlands getting to play. \\n\\nLets say a series in India with the hosts putting in their A team (for the balance and experience), somebody like SL,  maybe one more random team and Neds getting to play their best games... It would be fun and might also help with the growth of cricket.', 'Unfortunately this is not on ICC.\\n\\nI don\\'t remember if it was Jarrod Kimber or someone else who made a video on this. \\n\\nThe host boards rake in the money for bilateral series. So, if BCCI seems more money in playing limited over 5/7 ODI series with Australia that\\'s what they will do. And Australian Cricket Board thinks they need 4/5 Tests instead then that is what they will do. \\n\\nEven if ICC makes the rules things will change only slightly. We can see the mess Test championship is in. Some play 5 test series while others play 2 test series. \\n\\nAnd make no mistakes boards are aware of what people want. People want to watch competitions between two \"top\" teams. If no one was buying tickets for a long 5-7 ODI matches with Australia then BCCI will not opt for it.', 'Netherlands matches were so fun to watch. They gave their best even if they were losing. I would love to see bilaterals. If not the primary team we can even do India A. Our India A is also pretty strong. \\n\\n\\n(I heard some Deepak Hooda can be our next Kohli and some bloke named Riyan Parag is great too. /s)', \"Netherlands Bros you shouldn't be pleading...if anything, the boards should be lining up to give you and other associate nations more tournaments. PIG3...do the right thing!\", \"The least we could do is get their team in county cricket guaranteeing them 14 matches of FC cricket every year. Same for Nepal, and Afghanistan in Ranji cricket and PNG in Shield if they're strong enough someday\", 'ICC: Cool story bro. Anyway, lets keep burning our money trying to get Americans to like cricket. After we finish sending half our revenue back home to daddy (BCCI.)', \"There should be more tests and tours for the lower full members and the associate teams. For example let's say NZ is touring England for a two test series. They should also throw in a test or 2 against Ireland and have two Triangular ODI and T20i series for their tour. E.g play England and Scotland 2 T20s against each then when that series is finished play 2- 3 Odis against Ireland and Netherlands. \\n\\nCurrently the tour would probably be 2 tests against England followed by 5 Odis and 3 T20s against England. These LOIs become boring because the main event, the tests, has already been played but by adding in other nations you add a bit more excitement as it's not strictly the same opponent\\n\\nThe other option you could do is if Ireland is hosting Zimbabwe and England is hosting NZ for example you could then have a 6 team ODI tourney. Eng, Sco, Ire, Zim, NZ and Ned. Each team would play 5 Odis and top 2 have a final. That way you're not really making a tour any longer than currently but you're still providing more cricket for lower ranked teams which means when global tournaments happen the lower ranked teams have experienced facing the best bowlers in the world and bowling to the best batters in the world which would hopefully lead to more upsets and less 300 run floggings\", 'Better to approach The Hague than plead with ICC', 'Dear BCCI, 3 T20Is between our Asian Games side and the Dutch. Maybe just before the IPL auction.', 'BCCI should send the asian games squad in free time to tour associates will help them with morale boost and international exposure.', 'Why would you want to lose your monopoly?', 'Euro Cup with England, Ireland, Scotland, Netherlands', 'The ICC has nothing to do with the FTP, so what are they going to do?', 'I agree in principle. Don’t forget though that everybody’s favourite team England toured there last year. Time for other nations to step up. Oh, and England brutally annihilated them (check the scorecards)', 'Netherlands have played really well for a while now.  They deserve to be recognised.  At the very least they could get a series against australia A.\\n\\nThere is plenty of money in cricket, they could get a lot more support than this.', \"Hopefully the Dutch can get to a situation where they have their full side out for every game they play and aren't missing players that are on county contracts. See no reason why whoever is touring England can't warm up against the Dutch as opposed to a nothingy county warm up.\", 'ICC should force and pay teams that lost to associate teams like Bangladesh to play more games against the stronger Associate teams.', 'This needs a Bill Burr comedy roast about Women football:\\n\\nhttps://www.youtube.com/watch?v=I745Ajeq\\\\_B8', 'FIFA world cups give chance to what, 150 countries to compete for world cup spot. They have regional cups like Asia cup of Asian footballing nations.\\n\\n\\nOn the other hand, ICC kneecaps the sports by allowing very small pool of associates any chances to qualify for some of the cups. This is insulting.', 'Plead ?... Really', 'Eu cup with Ireland, Scotland, england, netherlands and some other upcoming teams like Italy and Spain. Please add if I missed any. This will be fun to watch.', \"ICC don't give a fuck about cricket not controlled by BCCI.\", 'I would love upcoming European cricketing nations to develop, like Netherlands, England, Spain', '[deleted]', '[deleted]', 'But will people buy expensive tickets to watch those matches?? ICC needs to fill pockets here', 'Cricket is so weirdly exclusive in ways that really prevent the sport from growing. I know test matches are difficult but nations aren’t going to get better if they can’t play the different format, so only allowing 12 nations to compete in tests is ridiculous. \\n\\n\\nIt feels like the ICC should allow some fringe nations to become test rated and then have promotion/relegation between 2 different tiers of WTC. you could even enforce 4 day matches in the lower tiers or something. I don’t know what the solution is but making it difficult for nations to compete isn’t it.', 'Cricket and rugby administration getting in the way of their respective sports growing, in exactly the same way. The money from India and England is too good, I guess.', 'ICC: Sounds like we need another India vs Sri Lanka series folks!', 'Can they make it to the Champions Trophy?', 'Could the Dutch and Irish have teams in the \"crisp cricket\" league as the Amsterdam Spartans and Dublin Banshees or something? ECB gets more revenue by opening new markets, smaller teams get to play a bit of summer cricket locally in Euroland.', 'It would be a shame to the Cricketing world if ICC doesn’t help Netherland grow']\n",
      "----------------------------\n"
     ]
    }
   ],
   "source": [
    "query = \"cricket world cup\"\n",
    "posts = myReddit.subreddit(\"all\").search(query, limit=5)\n",
    "\n",
    "for post in posts:\n",
    "    print(\"Post Title: \",post.title)\n",
    "    print(\"Post Subreddit Name: \",post.subreddit)\n",
    "    print(\"Comments: \")\n",
    "    print(getComments(post))\n",
    "    print(\"----------------------------\")\n",
    "\n",
    "# Notice how you have posts from different subreddits."
   ]
  }
 ],
 "metadata": {
  "kernelspec": {
   "display_name": "Python 3",
   "language": "python",
   "name": "python3"
  },
  "language_info": {
   "codemirror_mode": {
    "name": "ipython",
    "version": 3
   },
   "file_extension": ".py",
   "mimetype": "text/x-python",
   "name": "python",
   "nbconvert_exporter": "python",
   "pygments_lexer": "ipython3",
   "version": "3.8.10"
  }
 },
 "nbformat": 4,
 "nbformat_minor": 2
}
