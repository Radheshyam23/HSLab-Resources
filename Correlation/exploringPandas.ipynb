{
 "cells": [
  {
   "cell_type": "markdown",
   "metadata": {},
   "source": [
    "# Pandas!"
   ]
  },
  {
   "cell_type": "markdown",
   "metadata": {},
   "source": [
    "```pip install pandas```"
   ]
  },
  {
   "cell_type": "code",
   "execution_count": 1,
   "metadata": {},
   "outputs": [],
   "source": [
    "import pandas as pd"
   ]
  },
  {
   "cell_type": "markdown",
   "metadata": {},
   "source": [
    "### What is Pandas?\n",
    "\"Pandas is an open-source library that is built on top of NumPy library. It is a Python package that offers various data structures and operations for manipulating numerical data and time series. It is mainly popular for importing and analyzing data much easier. Pandas is fast and it has high-performance & productivity for users.\" \n",
    "~ GeeksForGeeks"
   ]
  },
  {
   "cell_type": "markdown",
   "metadata": {},
   "source": [
    "### Dataframes\n",
    "Intergral datastructure of Pandas. Can access data as columns or rows.\n",
    "\n",
    "### CSV files\n",
    "Comma-Separated-Values\n",
    "\n",
    "#### Loading csv files into panda dataframes"
   ]
  },
  {
   "cell_type": "code",
   "execution_count": 2,
   "metadata": {},
   "outputs": [],
   "source": [
    "df_fert = pd.read_csv('./data/fertility-rate.csv')\n",
    "df_lit = pd.read_csv('./data/literacy-rate.csv', index_col=\"States/UTs\")"
   ]
  },
  {
   "cell_type": "markdown",
   "metadata": {},
   "source": [
    "(GFR: General Fertility Rate: Number of births per 1000 women of child-bearing age)"
   ]
  },
  {
   "cell_type": "code",
   "execution_count": 3,
   "metadata": {},
   "outputs": [
    {
     "name": "stdout",
     "output_type": "stream",
     "text": [
      "       States/UTs  Total GFR  Rural GFR  Urban GFR\n",
      "16      Rajasthan      102.1      108.9       81.8\n",
      "17     Tamil Nadu       56.4       58.2       54.2\n",
      "18  Uttar Pradesh      109.3      115.1       86.6\n",
      "19    West Bengal       57.9       65.0       39.4\n",
      "20          India       81.2       88.9       62.0\n"
     ]
    }
   ],
   "source": [
    "print(df_fert.tail())"
   ]
  },
  {
   "cell_type": "code",
   "execution_count": 4,
   "metadata": {},
   "outputs": [
    {
     "name": "stdout",
     "output_type": "stream",
     "text": [
      "                             Persons   Male  Female  Rural Persons  \\\n",
      "States/UTs                                                           \n",
      "Andaman and Nicobar Islands    86.63  90.27   82.43          84.50   \n",
      "Andhra Pradesh                 67.41  74.83   60.01          62.43   \n",
      "Andhra Pradesh (Un-divided)    67.02  74.88   59.15          60.45   \n",
      "Arunachal Pradesh              65.38  72.55   57.70          59.94   \n",
      "Assam                          72.19  77.85   66.27          69.34   \n",
      "Bihar                          61.80  71.20   51.50          59.78   \n",
      "Chandigarh                     86.05  89.99   81.19          80.75   \n",
      "Chhattisgarh                   70.28  80.27   60.24          65.99   \n",
      "Dadra and Nagar Haveli         76.24  85.17   64.32          64.12   \n",
      "Daman and Diu                  87.10  91.54   79.55          81.36   \n",
      "Delhi                          86.21  90.94   80.76          81.86   \n",
      "Goa                            88.70  92.65   84.66          86.65   \n",
      "Gujarat                        78.03  85.75   69.68          71.71   \n",
      "Haryana                        75.55  84.06   65.94          71.42   \n",
      "Himachal Pradesh               82.80  89.53   75.93          81.85   \n",
      "Jammu and Kashmir              67.16  76.75   56.43          63.18   \n",
      "Jharkhand                      66.41  76.84   55.42          61.11   \n",
      "Karnataka                      75.36  82.47   68.08          68.73   \n",
      "Kerala                         94.00  96.11   92.07          92.98   \n",
      "Lakshadweep                    91.85  95.56   87.95          91.58   \n",
      "Madhya Pradesh                 69.32  78.73   59.24          63.94   \n",
      "Maharashtra                    82.34  88.38   75.87          77.01   \n",
      "Manipur                        76.94  83.58   70.26          73.40   \n",
      "Meghalaya                      74.43  75.95   72.89          69.92   \n",
      "Mizoram                        91.33  93.35   89.27          84.10   \n",
      "Nagaland                       79.55  82.75   76.11          75.35   \n",
      "Odisha                         72.87  81.59   64.01          70.22   \n",
      "Puducherry                     85.85  91.26   80.67          80.10   \n",
      "Punjab                         75.84  80.44   70.73          71.42   \n",
      "Rajasthan                      66.11  79.19   52.12          61.44   \n",
      "Sikkim                         81.42  86.55   75.61          78.95   \n",
      "Tamil Nadu                     80.09  86.77   73.44          73.54   \n",
      "Telangana                      66.46  74.95   57.92          57.25   \n",
      "Tripura                        87.22  91.53   82.73          84.90   \n",
      "Uttar Pradesh                  67.68  77.28   57.18          65.46   \n",
      "Uttarakhand                    78.82  87.40   70.01          76.31   \n",
      "West Bengal                    76.26  81.69   70.54          72.13   \n",
      "India                          72.98  80.88   64.63          67.77   \n",
      "\n",
      "                             Rural Male  Rural Female  Urban Persons  \\\n",
      "States/UTs                                                             \n",
      "Andaman and Nicobar Islands       88.53         79.85          90.10   \n",
      "Andhra Pradesh                    70.55         54.30          79.17   \n",
      "Andhra Pradesh (Un-divided)       69.38         51.54          80.09   \n",
      "Arunachal Pradesh                 67.44         52.04          82.93   \n",
      "Assam                             75.40         63.03          88.47   \n",
      "Bihar                             69.67         49.00          76.86   \n",
      "Chandigarh                        85.77         73.17          86.19   \n",
      "Chhattisgarh                      76.98         55.06          84.05   \n",
      "Dadra and Nagar Haveli            76.40         49.58          89.79   \n",
      "Daman and Diu                     89.43         71.93          88.96   \n",
      "Delhi                             89.37         73.10          86.32   \n",
      "Goa                               91.71         81.63          89.95   \n",
      "Gujarat                           81.61         61.36          86.31   \n",
      "Haryana                           81.55         60.02          83.14   \n",
      "Himachal Pradesh                  89.05         74.62          91.10   \n",
      "Jammu and Kashmir                 73.76         51.64          77.12   \n",
      "Jharkhand                         72.86         48.91          82.26   \n",
      "Karnataka                         77.61         59.71          85.78   \n",
      "Kerala                            95.35         90.81          95.11   \n",
      "Lakshadweep                       94.53         88.50          91.92   \n",
      "Madhya Pradesh                    74.74         52.43          82.85   \n",
      "Maharashtra                       85.15         68.54          88.69   \n",
      "Manipur                           80.29         66.34          85.38   \n",
      "Meghalaya                         71.46         68.37          90.79   \n",
      "Mizoram                           88.16         79.81          97.63   \n",
      "Nagaland                          78.96         71.51          89.62   \n",
      "Odisha                            79.65         60.74          85.75   \n",
      "Puducherry                        87.44         73.02          88.49   \n",
      "Punjab                            76.62         65.74          83.18   \n",
      "Rajasthan                         76.16         45.80          79.68   \n",
      "Sikkim                            84.62         72.45          88.71   \n",
      "Tamil Nadu                        82.04         65.05          87.04   \n",
      "Telangana                         67.48         47.11          81.09   \n",
      "Tripura                           90.07         79.49          93.47   \n",
      "Uttar Pradesh                     76.33         53.65          75.14   \n",
      "Uttarakhand                       86.62         66.18          84.45   \n",
      "West Bengal                       78.44         65.51          84.78   \n",
      "India                             77.15         57.93          84.11   \n",
      "\n",
      "                             Urban Male  Urban Female  \n",
      "States/UTs                                             \n",
      "Andaman and Nicobar Islands       93.11         86.63  \n",
      "Andhra Pradesh                    85.00         73.42  \n",
      "Andhra Pradesh (Un-divided)       85.79         74.35  \n",
      "Arunachal Pradesh                 88.45         76.66  \n",
      "Assam                             91.81         84.94  \n",
      "Bihar                             82.56         70.49  \n",
      "Chandigarh                        90.11         81.38  \n",
      "Chhattisgarh                      90.58         77.24  \n",
      "Dadra and Nagar Haveli            93.99         83.38  \n",
      "Daman and Diu                     92.10         82.88  \n",
      "Delhi                             90.98         80.95  \n",
      "Goa                               93.21         86.56  \n",
      "Gujarat                           90.98         81.03  \n",
      "Haryana                           88.63         76.90  \n",
      "Himachal Pradesh                  93.42         88.37  \n",
      "Jammu and Kashmir                 83.92         69.01  \n",
      "Jharkhand                         88.44         75.47  \n",
      "Karnataka                         90.04         81.36  \n",
      "Kerala                            96.95         93.44  \n",
      "Lakshadweep                       95.84         87.79  \n",
      "Madhya Pradesh                    88.67         76.52  \n",
      "Maharashtra                       92.12         84.89  \n",
      "Manipur                           91.68         79.31  \n",
      "Meghalaya                         92.46         89.14  \n",
      "Mizoram                           97.98         97.27  \n",
      "Nagaland                          91.62         87.40  \n",
      "Odisha                            90.72         80.42  \n",
      "Puducherry                        93.03         84.17  \n",
      "Punjab                            86.67         79.21  \n",
      "Rajasthan                         87.91         70.73  \n",
      "Sikkim                            92.35         84.70  \n",
      "Tamil Nadu                        91.80         82.31  \n",
      "Telangana                         86.65         75.39  \n",
      "Tripura                           95.51         91.38  \n",
      "Uttar Pradesh                     80.45         69.22  \n",
      "Uttarakhand                       89.05         79.25  \n",
      "West Bengal                       88.37         80.98  \n",
      "India                             88.76         79.11  \n"
     ]
    }
   ],
   "source": [
    "print(df_lit)"
   ]
  },
  {
   "cell_type": "markdown",
   "metadata": {},
   "source": [
    "### Accessing by Columns"
   ]
  },
  {
   "cell_type": "code",
   "execution_count": 5,
   "metadata": {},
   "outputs": [
    {
     "name": "stdout",
     "output_type": "stream",
     "text": [
      "0    Andhra Pradesh\n",
      "1             Assam\n",
      "2             Bihar\n",
      "3      Chhattisgarh\n",
      "4             Delhi\n",
      "Name: States/UTs, dtype: object\n"
     ]
    }
   ],
   "source": [
    "print(df_fert[\"States/UTs\"].head())"
   ]
  },
  {
   "cell_type": "code",
   "execution_count": 6,
   "metadata": {},
   "outputs": [
    {
     "name": "stdout",
     "output_type": "stream",
     "text": [
      "Index(['Andaman and Nicobar Islands', 'Andhra Pradesh',\n",
      "       'Andhra Pradesh (Un-divided)', 'Arunachal Pradesh', 'Assam', 'Bihar',\n",
      "       'Chandigarh', 'Chhattisgarh', 'Dadra and Nagar Haveli', 'Daman and Diu',\n",
      "       'Delhi', 'Goa', 'Gujarat', 'Haryana', 'Himachal Pradesh',\n",
      "       'Jammu and Kashmir', 'Jharkhand', 'Karnataka', 'Kerala', 'Lakshadweep',\n",
      "       'Madhya Pradesh', 'Maharashtra', 'Manipur', 'Meghalaya', 'Mizoram',\n",
      "       'Nagaland', 'Odisha', 'Puducherry', 'Punjab', 'Rajasthan', 'Sikkim',\n",
      "       'Tamil Nadu', 'Telangana', 'Tripura', 'Uttar Pradesh', 'Uttarakhand',\n",
      "       'West Bengal', 'India'],\n",
      "      dtype='object', name='States/UTs')\n"
     ]
    }
   ],
   "source": [
    "print(df_lit.index)"
   ]
  },
  {
   "cell_type": "code",
   "execution_count": 7,
   "metadata": {},
   "outputs": [
    {
     "name": "stdout",
     "output_type": "stream",
     "text": [
      "   Rural GFR      States/UTs\n",
      "0       63.6  Andhra Pradesh\n",
      "1       88.8           Assam\n",
      "2      118.2           Bihar\n",
      "3       99.1    Chhattisgarh\n",
      "4       70.9           Delhi\n",
      "5       87.0         Gujarat\n",
      "6       85.7         Haryana\n"
     ]
    }
   ],
   "source": [
    "# print(df_fert[[\"cilumn1\", \"column2\"]])\n",
    "\n",
    "print(df_fert[[\"Rural GFR\", \"States/UTs\"]].head(7))"
   ]
  },
  {
   "cell_type": "code",
   "execution_count": 8,
   "metadata": {},
   "outputs": [
    {
     "name": "stdout",
     "output_type": "stream",
     "text": [
      "       States/UTs  Rural GFR\n",
      "0  Andhra Pradesh       63.6\n",
      "1           Assam       88.8\n",
      "2           Bihar      118.2\n",
      "3    Chhattisgarh       99.1\n",
      "4           Delhi       70.9\n"
     ]
    }
   ],
   "source": [
    "# creating a new dataframe with only two columns\n",
    "temp = df_fert[[\"States/UTs\",\"Rural GFR\"]]\n",
    "print(temp.head())"
   ]
  },
  {
   "cell_type": "code",
   "execution_count": 9,
   "metadata": {},
   "outputs": [
    {
     "name": "stdout",
     "output_type": "stream",
     "text": [
      "Index(['Total GFR', 'Rural GFR', 'Urban GFR'], dtype='object')\n",
      "   Total GFR  Rural GFR  Urban GFR\n",
      "0       60.7       63.6       54.4\n",
      "1       82.8       88.8       51.3\n",
      "2      114.4      118.2       83.8\n",
      "3       91.9       99.1       62.3\n",
      "4       63.3       70.9       62.1\n"
     ]
    }
   ],
   "source": [
    "# selecting a range of columns\n",
    "\n",
    "print(df_fert.columns[1:4])\n",
    "\n",
    "print(df_fert[df_fert.columns[1:4]].head())"
   ]
  },
  {
   "cell_type": "markdown",
   "metadata": {},
   "source": [
    "### Rename Columns"
   ]
  },
  {
   "cell_type": "code",
   "execution_count": 10,
   "metadata": {},
   "outputs": [],
   "source": [
    "df_fert.rename(columns={\"Urban GFR\":\"Urban\", \"Rural GFR\":\"Rural\", \"Total GFR\":\"tot\"}, inplace=True)"
   ]
  },
  {
   "cell_type": "code",
   "execution_count": 11,
   "metadata": {},
   "outputs": [
    {
     "name": "stdout",
     "output_type": "stream",
     "text": [
      "       States/UTs    tot  Rural  Urban\n",
      "0  Andhra Pradesh   60.7   63.6   54.4\n",
      "1           Assam   82.8   88.8   51.3\n",
      "2           Bihar  114.4  118.2   83.8\n",
      "3    Chhattisgarh   91.9   99.1   62.3\n",
      "4           Delhi   63.3   70.9   62.1\n"
     ]
    }
   ],
   "source": [
    "print(df_fert.head())"
   ]
  },
  {
   "cell_type": "markdown",
   "metadata": {},
   "source": [
    "### Accessing by Rows"
   ]
  },
  {
   "cell_type": "code",
   "execution_count": 12,
   "metadata": {},
   "outputs": [
    {
     "name": "stdout",
     "output_type": "stream",
     "text": [
      "           States/UTs    tot  Rural  Urban\n",
      "0      Andhra Pradesh   60.7   63.6   54.4\n",
      "1               Assam   82.8   88.8   51.3\n",
      "2               Bihar  114.4  118.2   83.8\n",
      "3        Chhattisgarh   91.9   99.1   62.3\n",
      "4               Delhi   63.3   70.9   62.1\n",
      "5             Gujarat   79.7   87.0   68.7\n",
      "6             Haryana   80.7   85.7   69.9\n",
      "7    Himachal Pradesh   57.3   59.3   37.8\n",
      "8   Jammu and Kashmir   62.5   67.7   43.8\n",
      "9           Jharkhand   96.1  102.9   69.2\n",
      "10          Karnataka   65.8   70.3   58.2\n",
      "11             Kerala   54.2   55.2   51.3\n",
      "12     Madhya Pradesh  103.4  113.0   71.9\n",
      "13        Maharashtra   61.6   66.6   55.5\n",
      "14             Odisha   72.6   76.5   50.2\n",
      "15             Punjab   59.9   62.2   56.2\n",
      "16          Rajasthan  102.1  108.9   81.8\n",
      "17         Tamil Nadu   56.4   58.2   54.2\n",
      "18      Uttar Pradesh  109.3  115.1   86.6\n",
      "19        West Bengal   57.9   65.0   39.4\n",
      "20              India   81.2   88.9   62.0\n"
     ]
    }
   ],
   "source": [
    "print(df_fert)"
   ]
  },
  {
   "cell_type": "code",
   "execution_count": 13,
   "metadata": {},
   "outputs": [
    {
     "name": "stdout",
     "output_type": "stream",
     "text": [
      "States/UTs    Andhra Pradesh\n",
      "tot                     60.7\n",
      "Rural                   63.6\n",
      "Urban                   54.4\n",
      "Name: 0, dtype: object\n"
     ]
    }
   ],
   "source": [
    "print(df_fert.loc[0])"
   ]
  },
  {
   "cell_type": "code",
   "execution_count": 14,
   "metadata": {},
   "outputs": [
    {
     "name": "stdout",
     "output_type": "stream",
     "text": [
      "                             Persons   Male  Female  Rural Persons  \\\n",
      "States/UTs                                                           \n",
      "Andaman and Nicobar Islands    86.63  90.27   82.43          84.50   \n",
      "Andhra Pradesh                 67.41  74.83   60.01          62.43   \n",
      "Andhra Pradesh (Un-divided)    67.02  74.88   59.15          60.45   \n",
      "Arunachal Pradesh              65.38  72.55   57.70          59.94   \n",
      "Assam                          72.19  77.85   66.27          69.34   \n",
      "\n",
      "                             Rural Male  Rural Female  Urban Persons  \\\n",
      "States/UTs                                                             \n",
      "Andaman and Nicobar Islands       88.53         79.85          90.10   \n",
      "Andhra Pradesh                    70.55         54.30          79.17   \n",
      "Andhra Pradesh (Un-divided)       69.38         51.54          80.09   \n",
      "Arunachal Pradesh                 67.44         52.04          82.93   \n",
      "Assam                             75.40         63.03          88.47   \n",
      "\n",
      "                             Urban Male  Urban Female  \n",
      "States/UTs                                             \n",
      "Andaman and Nicobar Islands       93.11         86.63  \n",
      "Andhra Pradesh                    85.00         73.42  \n",
      "Andhra Pradesh (Un-divided)       85.79         74.35  \n",
      "Arunachal Pradesh                 88.45         76.66  \n",
      "Assam                             91.81         84.94  \n"
     ]
    }
   ],
   "source": [
    "print(df_lit.head())"
   ]
  },
  {
   "cell_type": "code",
   "execution_count": 15,
   "metadata": {},
   "outputs": [
    {
     "name": "stdout",
     "output_type": "stream",
     "text": [
      "Persons          66.11\n",
      "Male             79.19\n",
      "Female           52.12\n",
      "Rural Persons    61.44\n",
      "Rural Male       76.16\n",
      "Rural Female     45.80\n",
      "Urban Persons    79.68\n",
      "Urban Male       87.91\n",
      "Urban Female     70.73\n",
      "Name: Rajasthan, dtype: float64\n"
     ]
    }
   ],
   "source": [
    "print(df_lit.loc[\"Rajasthan\"])"
   ]
  },
  {
   "cell_type": "code",
   "execution_count": 16,
   "metadata": {},
   "outputs": [
    {
     "name": "stdout",
     "output_type": "stream",
     "text": [
      "Persons          67.02\n",
      "Male             74.88\n",
      "Female           59.15\n",
      "Rural Persons    60.45\n",
      "Rural Male       69.38\n",
      "Rural Female     51.54\n",
      "Urban Persons    80.09\n",
      "Urban Male       85.79\n",
      "Urban Female     74.35\n",
      "Name: Andhra Pradesh (Un-divided), dtype: float64\n"
     ]
    }
   ],
   "source": [
    "# print(df_lit.loc[2])\n",
    "# wont work becasue index is now states\n",
    "\n",
    "# but instead, we can use iloc\n",
    "print(df_lit.iloc[2])"
   ]
  },
  {
   "cell_type": "code",
   "execution_count": 17,
   "metadata": {},
   "outputs": [],
   "source": [
    "# turns out that the index is not unique!!"
   ]
  },
  {
   "cell_type": "markdown",
   "metadata": {},
   "source": [
    "### Trying out ```loc``` and ```iloc```"
   ]
  },
  {
   "cell_type": "code",
   "execution_count": 18,
   "metadata": {},
   "outputs": [
    {
     "name": "stdout",
     "output_type": "stream",
     "text": [
      "       States/UTs    tot  Rural  Urban\n",
      "0  Andhra Pradesh   60.7   63.6   54.4\n",
      "1           Assam   82.8   88.8   51.3\n",
      "2           Bihar  114.4  118.2   83.8\n",
      "3    Chhattisgarh   91.9   99.1   62.3\n",
      "4           Delhi   63.3   70.9   62.1\n"
     ]
    }
   ],
   "source": [
    "print(df_fert.head())"
   ]
  },
  {
   "cell_type": "markdown",
   "metadata": {},
   "source": [
    "The following line prints all the rows from 3 till 7 (excluding 7), and print the corresponding column values for the columns from \"States/UTs\" to \"Rural\"\n",
    "so basically we are filtering both columns and rows.\n",
    "\n",
    "recall what this syntax [3:7:2] it is very commonly used in Python.\n",
    "\n",
    "It basically means iterate from 3 to 7, skipping 2 at a time.\n",
    "\n",
    "in C, that would be: for(int i=3; i<7; i+=2)"
   ]
  },
  {
   "cell_type": "code",
   "execution_count": 19,
   "metadata": {},
   "outputs": [
    {
     "name": "stdout",
     "output_type": "stream",
     "text": [
      "         States/UTs   tot  Rural\n",
      "3      Chhattisgarh  91.9   99.1\n",
      "4             Delhi  63.3   70.9\n",
      "5           Gujarat  79.7   87.0\n",
      "6           Haryana  80.7   85.7\n",
      "7  Himachal Pradesh  57.3   59.3\n"
     ]
    }
   ],
   "source": [
    "print(df_fert.loc[3:7, \"States/UTs\":\"Rural\"])"
   ]
  },
  {
   "cell_type": "markdown",
   "metadata": {},
   "source": [
    "Similarly here, we print rows 0 to 3 and columns 0 to 2"
   ]
  },
  {
   "cell_type": "code",
   "execution_count": 20,
   "metadata": {},
   "outputs": [
    {
     "name": "stdout",
     "output_type": "stream",
     "text": [
      "       States/UTs    tot\n",
      "0  Andhra Pradesh   60.7\n",
      "1           Assam   82.8\n",
      "2           Bihar  114.4\n"
     ]
    }
   ],
   "source": [
    "print(df_fert.iloc[0:3,0:2])"
   ]
  },
  {
   "cell_type": "markdown",
   "metadata": {},
   "source": [
    "we can add conditions and print only those rows satisfying the conditions.\n",
    "\n",
    "The following line prints those rows for which Total GFR is < 60"
   ]
  },
  {
   "cell_type": "code",
   "execution_count": 21,
   "metadata": {},
   "outputs": [
    {
     "name": "stdout",
     "output_type": "stream",
     "text": [
      "          States/UTs   tot  Rural  Urban\n",
      "7   Himachal Pradesh  57.3   59.3   37.8\n",
      "11            Kerala  54.2   55.2   51.3\n",
      "15            Punjab  59.9   62.2   56.2\n",
      "17        Tamil Nadu  56.4   58.2   54.2\n",
      "19       West Bengal  57.9   65.0   39.4\n"
     ]
    }
   ],
   "source": [
    "print(df_fert.loc[df_fert[\"tot\"] < 60])"
   ]
  },
  {
   "cell_type": "markdown",
   "metadata": {},
   "source": [
    "Now this following line is a more 'nested' condition. look at it part by part to understand. It does the following things:\n",
    "- Select the rows which have Total GFR (we have renamed it to tot earlier...) < 60\n",
    "- Selects the rows for which Urban GFR > 50\n",
    "- performs and intersectoin of these two conditions because we have an '&', so it needs to satisfy both the conditions\n",
    "- Finally, we want to print values only for the columns \"States/UTs\", \"tot\" and \"Urban\"\n",
    "\n"
   ]
  },
  {
   "cell_type": "code",
   "execution_count": 22,
   "metadata": {},
   "outputs": [
    {
     "name": "stdout",
     "output_type": "stream",
     "text": [
      "    States/UTs   tot  Urban\n",
      "11      Kerala  54.2   51.3\n",
      "15      Punjab  59.9   56.2\n",
      "17  Tamil Nadu  56.4   54.2\n"
     ]
    }
   ],
   "source": [
    "print(df_fert.loc[(df_fert[\"tot\"] < 60) & (df_fert[\"Urban\"] > 50), [\"States/UTs\", \"tot\", \"Urban\"]])"
   ]
  },
  {
   "cell_type": "markdown",
   "metadata": {},
   "source": [
    "### Missing Data\n",
    "\n",
    "Sometimes the data might have some missing entries. In these situations, you need to decide what is the best strategy. Either substitute the missing values with some other value, like average. Or you can delete those rows.\n",
    "\n",
    "Missing or NULL values are shown as nan in python\n",
    "\n",
    "(In our particular data, we do not have nan. but if you want to try, delete some values from the csv file and load it again and try.)"
   ]
  },
  {
   "cell_type": "code",
   "execution_count": 23,
   "metadata": {},
   "outputs": [],
   "source": [
    "# This will fill all the nan values with 0\n",
    "df_fert.fillna(0, inplace=True)"
   ]
  },
  {
   "cell_type": "code",
   "execution_count": 24,
   "metadata": {},
   "outputs": [],
   "source": [
    "# This will delete all rows with nan values\n",
    "df_fert.dropna(inplace=True)"
   ]
  },
  {
   "cell_type": "markdown",
   "metadata": {},
   "source": [
    "### Iterating over rows and columns"
   ]
  },
  {
   "cell_type": "markdown",
   "metadata": {},
   "source": [
    "This is literally a for loop going row by row.\n",
    "\n",
    "the i will have the index for that row\n",
    "\n",
    "the j will have the whole row"
   ]
  },
  {
   "cell_type": "code",
   "execution_count": 25,
   "metadata": {},
   "outputs": [
    {
     "name": "stdout",
     "output_type": "stream",
     "text": [
      "0 States/UTs    Andhra Pradesh\n",
      "tot                     60.7\n",
      "Rural                   63.6\n",
      "Urban                   54.4\n",
      "Name: 0, dtype: object\n",
      "1 States/UTs    Assam\n",
      "tot            82.8\n",
      "Rural          88.8\n",
      "Urban          51.3\n",
      "Name: 1, dtype: object\n",
      "2 States/UTs    Bihar\n",
      "tot           114.4\n",
      "Rural         118.2\n",
      "Urban          83.8\n",
      "Name: 2, dtype: object\n",
      "3 States/UTs    Chhattisgarh\n",
      "tot                   91.9\n",
      "Rural                 99.1\n",
      "Urban                 62.3\n",
      "Name: 3, dtype: object\n",
      "4 States/UTs    Delhi\n",
      "tot            63.3\n",
      "Rural          70.9\n",
      "Urban          62.1\n",
      "Name: 4, dtype: object\n",
      "5 States/UTs    Gujarat\n",
      "tot              79.7\n",
      "Rural            87.0\n",
      "Urban            68.7\n",
      "Name: 5, dtype: object\n",
      "6 States/UTs    Haryana\n",
      "tot              80.7\n",
      "Rural            85.7\n",
      "Urban            69.9\n",
      "Name: 6, dtype: object\n",
      "7 States/UTs    Himachal Pradesh\n",
      "tot                       57.3\n",
      "Rural                     59.3\n",
      "Urban                     37.8\n",
      "Name: 7, dtype: object\n",
      "8 States/UTs    Jammu and Kashmir\n",
      "tot                        62.5\n",
      "Rural                      67.7\n",
      "Urban                      43.8\n",
      "Name: 8, dtype: object\n",
      "9 States/UTs    Jharkhand\n",
      "tot                96.1\n",
      "Rural             102.9\n",
      "Urban              69.2\n",
      "Name: 9, dtype: object\n",
      "10 States/UTs    Karnataka\n",
      "tot                65.8\n",
      "Rural              70.3\n",
      "Urban              58.2\n",
      "Name: 10, dtype: object\n",
      "11 States/UTs    Kerala\n",
      "tot             54.2\n",
      "Rural           55.2\n",
      "Urban           51.3\n",
      "Name: 11, dtype: object\n",
      "12 States/UTs    Madhya Pradesh\n",
      "tot                    103.4\n",
      "Rural                  113.0\n",
      "Urban                   71.9\n",
      "Name: 12, dtype: object\n",
      "13 States/UTs    Maharashtra\n",
      "tot                  61.6\n",
      "Rural                66.6\n",
      "Urban                55.5\n",
      "Name: 13, dtype: object\n",
      "14 States/UTs    Odisha\n",
      "tot             72.6\n",
      "Rural           76.5\n",
      "Urban           50.2\n",
      "Name: 14, dtype: object\n",
      "15 States/UTs    Punjab\n",
      "tot             59.9\n",
      "Rural           62.2\n",
      "Urban           56.2\n",
      "Name: 15, dtype: object\n",
      "16 States/UTs    Rajasthan\n",
      "tot               102.1\n",
      "Rural             108.9\n",
      "Urban              81.8\n",
      "Name: 16, dtype: object\n",
      "17 States/UTs    Tamil Nadu\n",
      "tot                 56.4\n",
      "Rural               58.2\n",
      "Urban               54.2\n",
      "Name: 17, dtype: object\n",
      "18 States/UTs    Uttar Pradesh\n",
      "tot                   109.3\n",
      "Rural                 115.1\n",
      "Urban                  86.6\n",
      "Name: 18, dtype: object\n",
      "19 States/UTs    West Bengal\n",
      "tot                  57.9\n",
      "Rural                65.0\n",
      "Urban                39.4\n",
      "Name: 19, dtype: object\n",
      "20 States/UTs    India\n",
      "tot            81.2\n",
      "Rural          88.9\n",
      "Urban          62.0\n",
      "Name: 20, dtype: object\n"
     ]
    }
   ],
   "source": [
    "for i, j in df_fert.iterrows():\n",
    "    print(i,j)"
   ]
  },
  {
   "cell_type": "code",
   "execution_count": 26,
   "metadata": {},
   "outputs": [
    {
     "name": "stdout",
     "output_type": "stream",
     "text": [
      "Andaman and Nicobar Islands Persons          86.63\n",
      "Male             90.27\n",
      "Female           82.43\n",
      "Rural Persons    84.50\n",
      "Rural Male       88.53\n",
      "Rural Female     79.85\n",
      "Urban Persons    90.10\n",
      "Urban Male       93.11\n",
      "Urban Female     86.63\n",
      "Name: Andaman and Nicobar Islands, dtype: float64\n",
      "Andhra Pradesh Persons          67.41\n",
      "Male             74.83\n",
      "Female           60.01\n",
      "Rural Persons    62.43\n",
      "Rural Male       70.55\n",
      "Rural Female     54.30\n",
      "Urban Persons    79.17\n",
      "Urban Male       85.00\n",
      "Urban Female     73.42\n",
      "Name: Andhra Pradesh, dtype: float64\n",
      "Andhra Pradesh (Un-divided) Persons          67.02\n",
      "Male             74.88\n",
      "Female           59.15\n",
      "Rural Persons    60.45\n",
      "Rural Male       69.38\n",
      "Rural Female     51.54\n",
      "Urban Persons    80.09\n",
      "Urban Male       85.79\n",
      "Urban Female     74.35\n",
      "Name: Andhra Pradesh (Un-divided), dtype: float64\n",
      "Arunachal Pradesh Persons          65.38\n",
      "Male             72.55\n",
      "Female           57.70\n",
      "Rural Persons    59.94\n",
      "Rural Male       67.44\n",
      "Rural Female     52.04\n",
      "Urban Persons    82.93\n",
      "Urban Male       88.45\n",
      "Urban Female     76.66\n",
      "Name: Arunachal Pradesh, dtype: float64\n",
      "Assam Persons          72.19\n",
      "Male             77.85\n",
      "Female           66.27\n",
      "Rural Persons    69.34\n",
      "Rural Male       75.40\n",
      "Rural Female     63.03\n",
      "Urban Persons    88.47\n",
      "Urban Male       91.81\n",
      "Urban Female     84.94\n",
      "Name: Assam, dtype: float64\n",
      "Bihar Persons          61.80\n",
      "Male             71.20\n",
      "Female           51.50\n",
      "Rural Persons    59.78\n",
      "Rural Male       69.67\n",
      "Rural Female     49.00\n",
      "Urban Persons    76.86\n",
      "Urban Male       82.56\n",
      "Urban Female     70.49\n",
      "Name: Bihar, dtype: float64\n",
      "Chandigarh Persons          86.05\n",
      "Male             89.99\n",
      "Female           81.19\n",
      "Rural Persons    80.75\n",
      "Rural Male       85.77\n",
      "Rural Female     73.17\n",
      "Urban Persons    86.19\n",
      "Urban Male       90.11\n",
      "Urban Female     81.38\n",
      "Name: Chandigarh, dtype: float64\n",
      "Chhattisgarh Persons          70.28\n",
      "Male             80.27\n",
      "Female           60.24\n",
      "Rural Persons    65.99\n",
      "Rural Male       76.98\n",
      "Rural Female     55.06\n",
      "Urban Persons    84.05\n",
      "Urban Male       90.58\n",
      "Urban Female     77.24\n",
      "Name: Chhattisgarh, dtype: float64\n",
      "Dadra and Nagar Haveli Persons          76.24\n",
      "Male             85.17\n",
      "Female           64.32\n",
      "Rural Persons    64.12\n",
      "Rural Male       76.40\n",
      "Rural Female     49.58\n",
      "Urban Persons    89.79\n",
      "Urban Male       93.99\n",
      "Urban Female     83.38\n",
      "Name: Dadra and Nagar Haveli, dtype: float64\n",
      "Daman and Diu Persons          87.10\n",
      "Male             91.54\n",
      "Female           79.55\n",
      "Rural Persons    81.36\n",
      "Rural Male       89.43\n",
      "Rural Female     71.93\n",
      "Urban Persons    88.96\n",
      "Urban Male       92.10\n",
      "Urban Female     82.88\n",
      "Name: Daman and Diu, dtype: float64\n",
      "Delhi Persons          86.21\n",
      "Male             90.94\n",
      "Female           80.76\n",
      "Rural Persons    81.86\n",
      "Rural Male       89.37\n",
      "Rural Female     73.10\n",
      "Urban Persons    86.32\n",
      "Urban Male       90.98\n",
      "Urban Female     80.95\n",
      "Name: Delhi, dtype: float64\n",
      "Goa Persons          88.70\n",
      "Male             92.65\n",
      "Female           84.66\n",
      "Rural Persons    86.65\n",
      "Rural Male       91.71\n",
      "Rural Female     81.63\n",
      "Urban Persons    89.95\n",
      "Urban Male       93.21\n",
      "Urban Female     86.56\n",
      "Name: Goa, dtype: float64\n",
      "Gujarat Persons          78.03\n",
      "Male             85.75\n",
      "Female           69.68\n",
      "Rural Persons    71.71\n",
      "Rural Male       81.61\n",
      "Rural Female     61.36\n",
      "Urban Persons    86.31\n",
      "Urban Male       90.98\n",
      "Urban Female     81.03\n",
      "Name: Gujarat, dtype: float64\n",
      "Haryana Persons          75.55\n",
      "Male             84.06\n",
      "Female           65.94\n",
      "Rural Persons    71.42\n",
      "Rural Male       81.55\n",
      "Rural Female     60.02\n",
      "Urban Persons    83.14\n",
      "Urban Male       88.63\n",
      "Urban Female     76.90\n",
      "Name: Haryana, dtype: float64\n",
      "Himachal Pradesh Persons          82.80\n",
      "Male             89.53\n",
      "Female           75.93\n",
      "Rural Persons    81.85\n",
      "Rural Male       89.05\n",
      "Rural Female     74.62\n",
      "Urban Persons    91.10\n",
      "Urban Male       93.42\n",
      "Urban Female     88.37\n",
      "Name: Himachal Pradesh, dtype: float64\n",
      "Jammu and Kashmir Persons          67.16\n",
      "Male             76.75\n",
      "Female           56.43\n",
      "Rural Persons    63.18\n",
      "Rural Male       73.76\n",
      "Rural Female     51.64\n",
      "Urban Persons    77.12\n",
      "Urban Male       83.92\n",
      "Urban Female     69.01\n",
      "Name: Jammu and Kashmir, dtype: float64\n",
      "Jharkhand Persons          66.41\n",
      "Male             76.84\n",
      "Female           55.42\n",
      "Rural Persons    61.11\n",
      "Rural Male       72.86\n",
      "Rural Female     48.91\n",
      "Urban Persons    82.26\n",
      "Urban Male       88.44\n",
      "Urban Female     75.47\n",
      "Name: Jharkhand, dtype: float64\n",
      "Karnataka Persons          75.36\n",
      "Male             82.47\n",
      "Female           68.08\n",
      "Rural Persons    68.73\n",
      "Rural Male       77.61\n",
      "Rural Female     59.71\n",
      "Urban Persons    85.78\n",
      "Urban Male       90.04\n",
      "Urban Female     81.36\n",
      "Name: Karnataka, dtype: float64\n",
      "Kerala Persons          94.00\n",
      "Male             96.11\n",
      "Female           92.07\n",
      "Rural Persons    92.98\n",
      "Rural Male       95.35\n",
      "Rural Female     90.81\n",
      "Urban Persons    95.11\n",
      "Urban Male       96.95\n",
      "Urban Female     93.44\n",
      "Name: Kerala, dtype: float64\n",
      "Lakshadweep Persons          91.85\n",
      "Male             95.56\n",
      "Female           87.95\n",
      "Rural Persons    91.58\n",
      "Rural Male       94.53\n",
      "Rural Female     88.50\n",
      "Urban Persons    91.92\n",
      "Urban Male       95.84\n",
      "Urban Female     87.79\n",
      "Name: Lakshadweep, dtype: float64\n",
      "Madhya Pradesh Persons          69.32\n",
      "Male             78.73\n",
      "Female           59.24\n",
      "Rural Persons    63.94\n",
      "Rural Male       74.74\n",
      "Rural Female     52.43\n",
      "Urban Persons    82.85\n",
      "Urban Male       88.67\n",
      "Urban Female     76.52\n",
      "Name: Madhya Pradesh, dtype: float64\n",
      "Maharashtra Persons          82.34\n",
      "Male             88.38\n",
      "Female           75.87\n",
      "Rural Persons    77.01\n",
      "Rural Male       85.15\n",
      "Rural Female     68.54\n",
      "Urban Persons    88.69\n",
      "Urban Male       92.12\n",
      "Urban Female     84.89\n",
      "Name: Maharashtra, dtype: float64\n",
      "Manipur Persons          76.94\n",
      "Male             83.58\n",
      "Female           70.26\n",
      "Rural Persons    73.40\n",
      "Rural Male       80.29\n",
      "Rural Female     66.34\n",
      "Urban Persons    85.38\n",
      "Urban Male       91.68\n",
      "Urban Female     79.31\n",
      "Name: Manipur, dtype: float64\n",
      "Meghalaya Persons          74.43\n",
      "Male             75.95\n",
      "Female           72.89\n",
      "Rural Persons    69.92\n",
      "Rural Male       71.46\n",
      "Rural Female     68.37\n",
      "Urban Persons    90.79\n",
      "Urban Male       92.46\n",
      "Urban Female     89.14\n",
      "Name: Meghalaya, dtype: float64\n",
      "Mizoram Persons          91.33\n",
      "Male             93.35\n",
      "Female           89.27\n",
      "Rural Persons    84.10\n",
      "Rural Male       88.16\n",
      "Rural Female     79.81\n",
      "Urban Persons    97.63\n",
      "Urban Male       97.98\n",
      "Urban Female     97.27\n",
      "Name: Mizoram, dtype: float64\n",
      "Nagaland Persons          79.55\n",
      "Male             82.75\n",
      "Female           76.11\n",
      "Rural Persons    75.35\n",
      "Rural Male       78.96\n",
      "Rural Female     71.51\n",
      "Urban Persons    89.62\n",
      "Urban Male       91.62\n",
      "Urban Female     87.40\n",
      "Name: Nagaland, dtype: float64\n",
      "Odisha Persons          72.87\n",
      "Male             81.59\n",
      "Female           64.01\n",
      "Rural Persons    70.22\n",
      "Rural Male       79.65\n",
      "Rural Female     60.74\n",
      "Urban Persons    85.75\n",
      "Urban Male       90.72\n",
      "Urban Female     80.42\n",
      "Name: Odisha, dtype: float64\n",
      "Puducherry Persons          85.85\n",
      "Male             91.26\n",
      "Female           80.67\n",
      "Rural Persons    80.10\n",
      "Rural Male       87.44\n",
      "Rural Female     73.02\n",
      "Urban Persons    88.49\n",
      "Urban Male       93.03\n",
      "Urban Female     84.17\n",
      "Name: Puducherry, dtype: float64\n",
      "Punjab Persons          75.84\n",
      "Male             80.44\n",
      "Female           70.73\n",
      "Rural Persons    71.42\n",
      "Rural Male       76.62\n",
      "Rural Female     65.74\n",
      "Urban Persons    83.18\n",
      "Urban Male       86.67\n",
      "Urban Female     79.21\n",
      "Name: Punjab, dtype: float64\n",
      "Rajasthan Persons          66.11\n",
      "Male             79.19\n",
      "Female           52.12\n",
      "Rural Persons    61.44\n",
      "Rural Male       76.16\n",
      "Rural Female     45.80\n",
      "Urban Persons    79.68\n",
      "Urban Male       87.91\n",
      "Urban Female     70.73\n",
      "Name: Rajasthan, dtype: float64\n",
      "Sikkim Persons          81.42\n",
      "Male             86.55\n",
      "Female           75.61\n",
      "Rural Persons    78.95\n",
      "Rural Male       84.62\n",
      "Rural Female     72.45\n",
      "Urban Persons    88.71\n",
      "Urban Male       92.35\n",
      "Urban Female     84.70\n",
      "Name: Sikkim, dtype: float64\n",
      "Tamil Nadu Persons          80.09\n",
      "Male             86.77\n",
      "Female           73.44\n",
      "Rural Persons    73.54\n",
      "Rural Male       82.04\n",
      "Rural Female     65.05\n",
      "Urban Persons    87.04\n",
      "Urban Male       91.80\n",
      "Urban Female     82.31\n",
      "Name: Tamil Nadu, dtype: float64\n",
      "Telangana Persons          66.46\n",
      "Male             74.95\n",
      "Female           57.92\n",
      "Rural Persons    57.25\n",
      "Rural Male       67.48\n",
      "Rural Female     47.11\n",
      "Urban Persons    81.09\n",
      "Urban Male       86.65\n",
      "Urban Female     75.39\n",
      "Name: Telangana, dtype: float64\n",
      "Tripura Persons          87.22\n",
      "Male             91.53\n",
      "Female           82.73\n",
      "Rural Persons    84.90\n",
      "Rural Male       90.07\n",
      "Rural Female     79.49\n",
      "Urban Persons    93.47\n",
      "Urban Male       95.51\n",
      "Urban Female     91.38\n",
      "Name: Tripura, dtype: float64\n",
      "Uttar Pradesh Persons          67.68\n",
      "Male             77.28\n",
      "Female           57.18\n",
      "Rural Persons    65.46\n",
      "Rural Male       76.33\n",
      "Rural Female     53.65\n",
      "Urban Persons    75.14\n",
      "Urban Male       80.45\n",
      "Urban Female     69.22\n",
      "Name: Uttar Pradesh, dtype: float64\n",
      "Uttarakhand Persons          78.82\n",
      "Male             87.40\n",
      "Female           70.01\n",
      "Rural Persons    76.31\n",
      "Rural Male       86.62\n",
      "Rural Female     66.18\n",
      "Urban Persons    84.45\n",
      "Urban Male       89.05\n",
      "Urban Female     79.25\n",
      "Name: Uttarakhand, dtype: float64\n",
      "West Bengal Persons          76.26\n",
      "Male             81.69\n",
      "Female           70.54\n",
      "Rural Persons    72.13\n",
      "Rural Male       78.44\n",
      "Rural Female     65.51\n",
      "Urban Persons    84.78\n",
      "Urban Male       88.37\n",
      "Urban Female     80.98\n",
      "Name: West Bengal, dtype: float64\n",
      "India Persons          72.98\n",
      "Male             80.88\n",
      "Female           64.63\n",
      "Rural Persons    67.77\n",
      "Rural Male       77.15\n",
      "Rural Female     57.93\n",
      "Urban Persons    84.11\n",
      "Urban Male       88.76\n",
      "Urban Female     79.11\n",
      "Name: India, dtype: float64\n"
     ]
    }
   ],
   "source": [
    "for i, j in df_lit.iterrows():\n",
    "    print(i,j)"
   ]
  },
  {
   "cell_type": "markdown",
   "metadata": {},
   "source": [
    "### Statistics\n",
    "some inbuilt statistical measures"
   ]
  },
  {
   "cell_type": "code",
   "execution_count": 27,
   "metadata": {},
   "outputs": [
    {
     "name": "stdout",
     "output_type": "stream",
     "text": [
      "76.84761904761906\n"
     ]
    }
   ],
   "source": [
    "# print average of tot column\n",
    "print(df_fert[\"tot\"].mean())"
   ]
  },
  {
   "cell_type": "code",
   "execution_count": 28,
   "metadata": {},
   "outputs": [
    {
     "name": "stdout",
     "output_type": "stream",
     "text": [
      "              tot       Rural      Urban\n",
      "count   21.000000   21.000000  21.000000\n",
      "mean    76.847619   82.052381  60.504762\n",
      "std     19.316719   20.620296  13.578530\n",
      "min     54.200000   55.200000  37.800000\n",
      "25%     60.700000   65.000000  51.300000\n",
      "50%     72.600000   76.500000  58.200000\n",
      "75%     91.900000   99.100000  69.200000\n",
      "max    114.400000  118.200000  86.600000\n"
     ]
    }
   ],
   "source": [
    "print(df_fert.describe())"
   ]
  },
  {
   "cell_type": "code",
   "execution_count": 29,
   "metadata": {},
   "outputs": [
    {
     "name": "stdout",
     "output_type": "stream",
     "text": [
      "count                 21\n",
      "unique                21\n",
      "top       Andhra Pradesh\n",
      "freq                   1\n",
      "Name: States/UTs, dtype: object\n"
     ]
    }
   ],
   "source": [
    "print(df_fert[\"States/UTs\"].describe())"
   ]
  },
  {
   "cell_type": "markdown",
   "metadata": {},
   "source": [
    "There are many many more such things you can do. This is just to show you some things which are possible.\n",
    "As per your requirements, you should be ready to google the syntax for the different functions."
   ]
  }
 ],
 "metadata": {
  "kernelspec": {
   "display_name": "Python 3",
   "language": "python",
   "name": "python3"
  },
  "language_info": {
   "codemirror_mode": {
    "name": "ipython",
    "version": 3
   },
   "file_extension": ".py",
   "mimetype": "text/x-python",
   "name": "python",
   "nbconvert_exporter": "python",
   "pygments_lexer": "ipython3",
   "version": "3.8.10"
  },
  "orig_nbformat": 4
 },
 "nbformat": 4,
 "nbformat_minor": 2
}
