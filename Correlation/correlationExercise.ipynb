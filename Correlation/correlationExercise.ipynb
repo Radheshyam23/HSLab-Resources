{
 "cells": [
  {
   "cell_type": "markdown",
   "metadata": {},
   "source": [
    "### Correlation Exercise\n",
    "\n",
    "Correlation: A measure of how closely two variables behave.\n",
    "\n",
    "- Correlation vs Causation\n",
    "\n",
    "Pearson's Correlation:\n",
    "$$\n",
    "\\frac{\\sum{(x - \\bar{x})} . \\sum{(y - \\bar{y})}}{\\sqrt{\\sum{(x - \\bar{x})^2} . \\sum{(y - \\bar{y})^2}}}\n",
    "$$\n",
    "\n",
    "\n",
    "https://www.mathsisfun.com/data/correlation.html\n",
    "\n",
    "\n"
   ]
  },
  {
   "cell_type": "code",
   "execution_count": 1,
   "metadata": {},
   "outputs": [],
   "source": [
    "import pandas as pd"
   ]
  },
  {
   "cell_type": "markdown",
   "metadata": {},
   "source": [
    "#### Step 1: Load the csv files into DataFrames\n",
    "\n",
    "the first parameter of read_csv should be the relative path of the csv file with respect to this current ipynb file. If the csv files are in the same folder as the code, just do ./fileName.\n",
    "if they are in a different folder, for example the directory structure is like this:\n",
    "\n",
    "```\n",
    "-Coding Assignment\n",
    "    |\n",
    "    |-myCode.ipynb\n",
    "    |\n",
    "    |-data\n",
    "        |\n",
    "        |-dataFile.csv\n",
    "```\n",
    "i.e. A folder called Coding Assignment\n",
    "inside that the code file called myCode.ipynb\n",
    "in the same folder, we have another folder called data\n",
    "in the data folder, we have the csv file called dataFile.csv\n",
    "\n",
    "then we load it as follows:\n",
    "\n",
    "```pd.read_csv('./data/dataFile.csv')```"
   ]
  },
  {
   "cell_type": "code",
   "execution_count": 2,
   "metadata": {},
   "outputs": [],
   "source": [
    "# This is in the case where the data files and code, everything are just in the same folder. no nested folder\n",
    "fert_df = pd.read_csv('./fertility-rate.csv', index_col=\"States/UTs\")\n",
    "lit_df = pd.read_csv('./literacy-rate.csv', index_col=\"States/UTs\")"
   ]
  },
  {
   "cell_type": "markdown",
   "metadata": {},
   "source": [
    "### Merge Dataframes\n",
    "Merging of Dataframes is  not _necessary_. It however, makes it easier to visualise all the data in one table. I am merging the dataframes here.."
   ]
  },
  {
   "cell_type": "code",
   "execution_count": 3,
   "metadata": {},
   "outputs": [],
   "source": [
    "merged_df = pd.merge(fert_df, lit_df, on=\"States/UTs\", how=\"inner\")"
   ]
  },
  {
   "cell_type": "code",
   "execution_count": 4,
   "metadata": {},
   "outputs": [
    {
     "name": "stdout",
     "output_type": "stream",
     "text": [
      "                Total GFR  Rural GFR  Urban GFR  Persons   Male  Female  \\\n",
      "States/UTs                                                                \n",
      "Andhra Pradesh       60.7       63.6       54.4    67.41  74.83   60.01   \n",
      "Assam                82.8       88.8       51.3    72.19  77.85   66.27   \n",
      "Bihar               114.4      118.2       83.8    61.80  71.20   51.50   \n",
      "Chhattisgarh         91.9       99.1       62.3    70.28  80.27   60.24   \n",
      "Delhi                63.3       70.9       62.1    86.21  90.94   80.76   \n",
      "\n",
      "                Rural Persons  Rural Male  Rural Female  Urban Persons  \\\n",
      "States/UTs                                                               \n",
      "Andhra Pradesh          62.43       70.55         54.30          79.17   \n",
      "Assam                   69.34       75.40         63.03          88.47   \n",
      "Bihar                   59.78       69.67         49.00          76.86   \n",
      "Chhattisgarh            65.99       76.98         55.06          84.05   \n",
      "Delhi                   81.86       89.37         73.10          86.32   \n",
      "\n",
      "                Urban Male  Urban Female  \n",
      "States/UTs                                \n",
      "Andhra Pradesh       85.00         73.42  \n",
      "Assam                91.81         84.94  \n",
      "Bihar                82.56         70.49  \n",
      "Chhattisgarh         90.58         77.24  \n",
      "Delhi                90.98         80.95  \n"
     ]
    }
   ],
   "source": [
    "print(merged_df.head())"
   ]
  },
  {
   "cell_type": "markdown",
   "metadata": {},
   "source": [
    "### Find Correlation"
   ]
  },
  {
   "cell_type": "code",
   "execution_count": 5,
   "metadata": {},
   "outputs": [
    {
     "name": "stdout",
     "output_type": "stream",
     "text": [
      "-0.7426519954373397\n"
     ]
    }
   ],
   "source": [
    "Female_Lit_Correlation = merged_df[\"Total GFR\"].corr(merged_df[\"Female\"])\n",
    "print(Female_Lit_Correlation)"
   ]
  }
 ],
 "metadata": {
  "kernelspec": {
   "display_name": "Python 3",
   "language": "python",
   "name": "python3"
  },
  "language_info": {
   "codemirror_mode": {
    "name": "ipython",
    "version": 3
   },
   "file_extension": ".py",
   "mimetype": "text/x-python",
   "name": "python",
   "nbconvert_exporter": "python",
   "pygments_lexer": "ipython3",
   "version": "3.8.10"
  },
  "orig_nbformat": 4
 },
 "nbformat": 4,
 "nbformat_minor": 2
}
